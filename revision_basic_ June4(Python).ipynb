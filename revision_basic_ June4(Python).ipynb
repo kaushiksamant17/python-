{
 "cells": [
  {
   "cell_type": "code",
   "execution_count": 2,
   "id": "67f55ad6",
   "metadata": {},
   "outputs": [],
   "source": [
    "a =\"this is the first programming task  and i am learning python\""
   ]
  },
  {
   "cell_type": "code",
   "execution_count": 5,
   "id": "26782e11",
   "metadata": {},
   "outputs": [
    {
     "data": {
      "text/plain": [
       "'tsshfspgmntka alrnph'"
      ]
     },
     "execution_count": 5,
     "metadata": {},
     "output_type": "execute_result"
    }
   ],
   "source": [
    "a[0:300:3]"
   ]
  },
  {
   "cell_type": "code",
   "execution_count": 6,
   "id": "f89fb87d",
   "metadata": {},
   "outputs": [
    {
     "data": {
      "text/plain": [
       "'nohtyp gninrael ma i dna  ksat gnimmargorp tsrif eht si siht'"
      ]
     },
     "execution_count": 6,
     "metadata": {},
     "output_type": "execute_result"
    }
   ],
   "source": [
    "a[::-1]"
   ]
  },
  {
   "cell_type": "code",
   "execution_count": 7,
   "id": "bd5eb4c8",
   "metadata": {},
   "outputs": [
    {
     "data": {
      "text/plain": [
       "'THIS IS THE FIRST PROGRAMMING TASK  AND I AM LEARNING PYTHON'"
      ]
     },
     "execution_count": 7,
     "metadata": {},
     "output_type": "execute_result"
    }
   ],
   "source": [
    "a.upper()"
   ]
  },
  {
   "cell_type": "code",
   "execution_count": 8,
   "id": "91f96a4b",
   "metadata": {},
   "outputs": [
    {
     "data": {
      "text/plain": [
       "['this',\n",
       " 'is',\n",
       " 'the',\n",
       " 'first',\n",
       " 'programming',\n",
       " 'task',\n",
       " '',\n",
       " 'and',\n",
       " 'i',\n",
       " 'am',\n",
       " 'learning',\n",
       " 'python']"
      ]
     },
     "execution_count": 8,
     "metadata": {},
     "output_type": "execute_result"
    }
   ],
   "source": [
    "a.split(\" \")"
   ]
  },
  {
   "cell_type": "code",
   "execution_count": 10,
   "id": "215f9820",
   "metadata": {},
   "outputs": [
    {
     "data": {
      "text/plain": [
       "'this is the first programming task  and i am learning python'"
      ]
     },
     "execution_count": 10,
     "metadata": {},
     "output_type": "execute_result"
    }
   ],
   "source": [
    "a.lower()"
   ]
  },
  {
   "cell_type": "code",
   "execution_count": 12,
   "id": "e9353270",
   "metadata": {},
   "outputs": [
    {
     "data": {
      "text/plain": [
       "'This Is The First Programming Task  And I Am Learning Python'"
      ]
     },
     "execution_count": 12,
     "metadata": {},
     "output_type": "execute_result"
    }
   ],
   "source": [
    "a.title()"
   ]
  },
  {
   "cell_type": "code",
   "execution_count": 13,
   "id": "5bbdfc7e",
   "metadata": {},
   "outputs": [
    {
     "data": {
      "text/plain": [
       "'This is the first programming task  and i am learning python'"
      ]
     },
     "execution_count": 13,
     "metadata": {},
     "output_type": "execute_result"
    }
   ],
   "source": [
    "a.capitalize()"
   ]
  },
  {
   "cell_type": "code",
   "execution_count": 14,
   "id": "d8f4e640",
   "metadata": {},
   "outputs": [],
   "source": [
    "s1 = \"skkkk123\"\n"
   ]
  },
  {
   "cell_type": "code",
   "execution_count": 15,
   "id": "0279123e",
   "metadata": {},
   "outputs": [
    {
     "data": {
      "text/plain": [
       "True"
      ]
     },
     "execution_count": 15,
     "metadata": {},
     "output_type": "execute_result"
    }
   ],
   "source": [
    "s1.isalnum()"
   ]
  },
  {
   "cell_type": "code",
   "execution_count": 17,
   "id": "86acef8b",
   "metadata": {},
   "outputs": [
    {
     "data": {
      "text/plain": [
       "False"
      ]
     },
     "execution_count": 17,
     "metadata": {},
     "output_type": "execute_result"
    }
   ],
   "source": [
    "s1.isalpha()"
   ]
  },
  {
   "cell_type": "code",
   "execution_count": 23,
   "id": "7691684f",
   "metadata": {},
   "outputs": [
    {
     "data": {
      "text/plain": [
       "'sdfad   sgsdf   sfsf'"
      ]
     },
     "execution_count": 23,
     "metadata": {},
     "output_type": "execute_result"
    }
   ],
   "source": [
    "ss = \"sdfad\\tsgsdf\\tsfsf\"\n",
    "ss.expandtabs()"
   ]
  },
  {
   "cell_type": "code",
   "execution_count": 25,
   "id": "cea4f94d",
   "metadata": {},
   "outputs": [
    {
     "data": {
      "text/plain": [
       "'bondi kesto'"
      ]
     },
     "execution_count": 25,
     "metadata": {},
     "output_type": "execute_result"
    }
   ],
   "source": [
    "re = \"bondi boni\"\n",
    "re.replace(\"boni\",\"kesto\")"
   ]
  },
  {
   "cell_type": "code",
   "execution_count": 28,
   "id": "9bb31a3a",
   "metadata": {},
   "outputs": [
    {
     "data": {
      "text/plain": [
       "'%%%kaushiksamant%%%%'"
      ]
     },
     "execution_count": 28,
     "metadata": {},
     "output_type": "execute_result"
    }
   ],
   "source": [
    "hg = \"kaushiksamant\"\n",
    "hg.center(20,\"%\")"
   ]
  },
  {
   "cell_type": "code",
   "execution_count": 29,
   "id": "028955f5",
   "metadata": {},
   "outputs": [],
   "source": [
    "a = \"     kaushik\"\n",
    "b=\"kaushik      \"\n",
    "c = \"   kaushik   \""
   ]
  },
  {
   "cell_type": "code",
   "execution_count": 30,
   "id": "9c500db5",
   "metadata": {},
   "outputs": [
    {
     "data": {
      "text/plain": [
       "'kaushik'"
      ]
     },
     "execution_count": 30,
     "metadata": {},
     "output_type": "execute_result"
    }
   ],
   "source": [
    "a.lstrip()"
   ]
  },
  {
   "cell_type": "code",
   "execution_count": 31,
   "id": "8cc44ec4",
   "metadata": {},
   "outputs": [
    {
     "data": {
      "text/plain": [
       "'kaushik'"
      ]
     },
     "execution_count": 31,
     "metadata": {},
     "output_type": "execute_result"
    }
   ],
   "source": [
    "b.rstrip()"
   ]
  },
  {
   "cell_type": "code",
   "execution_count": 32,
   "id": "f5b11c36",
   "metadata": {},
   "outputs": [
    {
     "data": {
      "text/plain": [
       "'kaushik'"
      ]
     },
     "execution_count": 32,
     "metadata": {},
     "output_type": "execute_result"
    }
   ],
   "source": [
    "c.strip()"
   ]
  },
  {
   "cell_type": "code",
   "execution_count": 33,
   "id": "2af2f16d",
   "metadata": {},
   "outputs": [
    {
     "ename": "SyntaxError",
     "evalue": "unmatched ')' (2576245496.py, line 2)",
     "output_type": "error",
     "traceback": [
      "\u001b[1;36m  Input \u001b[1;32mIn [33]\u001b[1;36m\u001b[0m\n\u001b[1;33m    )\u001b[0m\n\u001b[1;37m    ^\u001b[0m\n\u001b[1;31mSyntaxError\u001b[0m\u001b[1;31m:\u001b[0m unmatched ')'\n"
     ]
    }
   ],
   "source": [
    "# flow of python programming(compile and interpret)\n",
    "source code --- > compiler---> bytecode----> interpreter---> machinecode"
   ]
  },
  {
   "cell_type": "markdown",
   "id": "0d3285f0",
   "metadata": {},
   "source": [
    "# SECOND ASSIGNMENT"
   ]
  },
  {
   "cell_type": "code",
   "execution_count": 34,
   "id": "abddfebd",
   "metadata": {},
   "outputs": [],
   "source": [
    "l = [1,2,3,4,23,\"kljl\"]"
   ]
  },
  {
   "cell_type": "code",
   "execution_count": 35,
   "id": "5b0bd44e",
   "metadata": {},
   "outputs": [],
   "source": [
    "l.reverse()"
   ]
  },
  {
   "cell_type": "code",
   "execution_count": 36,
   "id": "b233bfdc",
   "metadata": {},
   "outputs": [
    {
     "data": {
      "text/plain": [
       "['kljl', 23, 4, 3, 2, 1]"
      ]
     },
     "execution_count": 36,
     "metadata": {},
     "output_type": "execute_result"
    }
   ],
   "source": [
    "l"
   ]
  },
  {
   "cell_type": "code",
   "execution_count": 38,
   "id": "cf617a46",
   "metadata": {},
   "outputs": [],
   "source": [
    "ll =[1,2,3,4,2,(2,4,5),{343,23,\"kkk\"},{232:3534,\"kfslg\":454}]"
   ]
  },
  {
   "cell_type": "code",
   "execution_count": 42,
   "id": "7bbb3422",
   "metadata": {},
   "outputs": [
    {
     "data": {
      "text/plain": [
       "5"
      ]
     },
     "execution_count": 42,
     "metadata": {},
     "output_type": "execute_result"
    }
   ],
   "source": [
    "ll[5][2]"
   ]
  },
  {
   "cell_type": "code",
   "execution_count": 45,
   "id": "47440187",
   "metadata": {},
   "outputs": [
    {
     "data": {
      "text/plain": [
       "{23, 343, 'kkk'}"
      ]
     },
     "execution_count": 45,
     "metadata": {},
     "output_type": "execute_result"
    }
   ],
   "source": [
    "ll[6]"
   ]
  },
  {
   "cell_type": "code",
   "execution_count": 46,
   "id": "ad9b04f0",
   "metadata": {},
   "outputs": [
    {
     "data": {
      "text/plain": [
       "dict_keys([232, 'kfslg'])"
      ]
     },
     "execution_count": 46,
     "metadata": {},
     "output_type": "execute_result"
    }
   ],
   "source": [
    "ll[7].keys()"
   ]
  },
  {
   "cell_type": "code",
   "execution_count": 47,
   "id": "c8a542ec",
   "metadata": {},
   "outputs": [
    {
     "data": {
      "text/plain": [
       "dict_values([3534, 454])"
      ]
     },
     "execution_count": 47,
     "metadata": {},
     "output_type": "execute_result"
    }
   ],
   "source": [
    "ll[7].values()"
   ]
  },
  {
   "cell_type": "code",
   "execution_count": 48,
   "id": "7bd35d56",
   "metadata": {},
   "outputs": [
    {
     "data": {
      "text/plain": [
       "454"
      ]
     },
     "execution_count": 48,
     "metadata": {},
     "output_type": "execute_result"
    }
   ],
   "source": [
    "ll[7][\"kfslg\"]"
   ]
  },
  {
   "cell_type": "markdown",
   "id": "fe90139d",
   "metadata": {},
   "source": [
    "# THIRD ASSIGNMENT"
   ]
  },
  {
   "cell_type": "code",
   "execution_count": 54,
   "id": "b712d39d",
   "metadata": {},
   "outputs": [
    {
     "name": "stdout",
     "output_type": "stream",
     "text": [
      "ineuron  \n",
      "ineuron  ineuron  \n",
      "ineuron  ineuron  ineuron  \n",
      "ineuron  ineuron  ineuron  ineuron  \n",
      "ineuron  ineuron  ineuron  ineuron  ineuron  \n"
     ]
    }
   ],
   "source": [
    "for i in range(5):\n",
    "    print(\"ineuron  \"*(i+1))\n",
    "    "
   ]
  },
  {
   "cell_type": "code",
   "execution_count": 56,
   "id": "46ab480f",
   "metadata": {},
   "outputs": [
    {
     "name": "stdout",
     "output_type": "stream",
     "text": [
      "\n",
      "\n",
      "ineuron \n",
      "\n",
      "ineuron ineuron \n",
      "\n",
      "ineuron ineuron ineuron \n",
      "\n",
      "ineuron ineuron ineuron ineuron \n",
      "\n"
     ]
    }
   ],
   "source": [
    "for i in range(5):\n",
    "    for j in range(i):\n",
    "        print(\"ineuron\",end = \" \")\n",
    "    print(\"\\n\")"
   ]
  },
  {
   "cell_type": "code",
   "execution_count": 60,
   "id": "6cc0b02a",
   "metadata": {},
   "outputs": [
    {
     "name": "stdout",
     "output_type": "stream",
     "text": [
      "                                                            \n",
      "                          ineuron                           \n",
      "                      ineuron ineuron                       \n",
      "                  ineuron ineuron ineuron                   \n",
      "              ineuron ineuron ineuron ineuron               \n",
      "                  ineuron ineuron ineuron                   \n",
      "                      ineuron ineuron                       \n",
      "                          ineuron                           \n"
     ]
    }
   ],
   "source": [
    "for i in range(8):\n",
    "    if i <=4:\n",
    "        n =i\n",
    "    else:\n",
    "        n = 8-i\n",
    "    print((\"ineuron \"*n).center(60,\" \"))"
   ]
  },
  {
   "cell_type": "code",
   "execution_count": 89,
   "id": "a638ea6e",
   "metadata": {},
   "outputs": [
    {
     "name": "stdout",
     "output_type": "stream",
     "text": [
      "                  \n",
      "\n",
      "                 **  \n",
      "\n",
      "              **    **  \n",
      "\n",
      "           **    **    **  \n",
      "\n",
      "        **    **    **    **  \n",
      "\n",
      "     **    **    **    **    **  \n",
      "\n",
      "  **    **    **    **    **    **  \n",
      "\n",
      "  **    **    **    **    **    **  \n",
      "\n",
      "     **    **    **    **    **  \n",
      "\n",
      "        **    **    **    **  \n",
      "\n",
      "           **    **    **  \n",
      "\n",
      "              **    **  \n",
      "\n",
      "                 **  \n",
      "\n",
      "                  \n",
      "\n"
     ]
    }
   ],
   "source": [
    "m=7\n",
    "for i in range(7):\n",
    "    \n",
    "    for j in range(m,1,-1):\n",
    "        print(\"  \",end=\" \")\n",
    "    m -=1   \n",
    "    for k in range(i):\n",
    "        print(\"  ** \",end = \" \")\n",
    "    print(\"\\n\")\n",
    "n=7\n",
    "for u in range(7):\n",
    "    for w in range(u):\n",
    "        print(\"  \",end =\" \")\n",
    "    for v in range(n,1,-1):\n",
    "        print(\"  ** \",end = \" \")\n",
    "    n -=1\n",
    "    print(\"\\n\")"
   ]
  },
  {
   "cell_type": "markdown",
   "id": "e8339f50",
   "metadata": {},
   "source": [
    "# Assignment 4\n"
   ]
  },
  {
   "cell_type": "code",
   "execution_count": 94,
   "id": "deb44a76",
   "metadata": {},
   "outputs": [
    {
     "name": "stdout",
     "output_type": "stream",
     "text": [
      "*\n",
      "**\n",
      "***\n",
      "****\n",
      "*****\n",
      "******\n",
      "*******\n",
      "********\n"
     ]
    }
   ],
   "source": [
    "i =1\n",
    "while i < 9:\n",
    "    print(\"*\"*i)\n",
    "    i +=1"
   ]
  },
  {
   "cell_type": "code",
   "execution_count": 100,
   "id": "7624577c",
   "metadata": {},
   "outputs": [
    {
     "name": "stdout",
     "output_type": "stream",
     "text": [
      "A \n",
      "B H \n",
      "C I N \n",
      "D J O S \n",
      "E K P T W \n",
      "F L Q U X Z \n",
      "G M R V Y [ \\ \n"
     ]
    }
   ],
   "source": [
    "i=0\n",
    "while i < 7:\n",
    "    c = 65+i\n",
    "    j = 0\n",
    "    while j <=i:\n",
    "        print(chr(c),end =\" \")\n",
    "        c =  c+6-j\n",
    "        j = j+1\n",
    "    i= i+1\n",
    "    print()\n",
    "    \n",
    "        "
   ]
  },
  {
   "cell_type": "code",
   "execution_count": 102,
   "id": "787f1149",
   "metadata": {},
   "outputs": [
    {
     "name": "stdout",
     "output_type": "stream",
     "text": [
      "42\n",
      "45\n",
      "48\n",
      "51\n",
      "54\n",
      "57\n",
      "60\n",
      "63\n",
      "66\n",
      "69\n",
      "72\n",
      "75\n",
      "78\n",
      "81\n",
      "84\n",
      "87\n",
      "90\n",
      "93\n",
      "96\n",
      "99\n",
      "102\n",
      "105\n",
      "108\n",
      "111\n",
      "114\n",
      "117\n",
      "120\n",
      "123\n",
      "126\n",
      "129\n",
      "132\n",
      "135\n",
      "138\n",
      "141\n",
      "144\n",
      "147\n",
      "150\n",
      "153\n",
      "156\n",
      "159\n",
      "162\n",
      "165\n",
      "168\n",
      "171\n",
      "174\n",
      "177\n",
      "180\n",
      "183\n",
      "186\n",
      "189\n",
      "192\n",
      "195\n",
      "198\n",
      "201\n",
      "204\n",
      "207\n",
      "210\n",
      "213\n",
      "216\n",
      "219\n",
      "222\n",
      "225\n",
      "228\n",
      "231\n",
      "234\n",
      "237\n",
      "240\n",
      "243\n",
      "246\n",
      "249\n",
      "252\n",
      "255\n",
      "258\n",
      "261\n",
      "264\n",
      "267\n",
      "270\n",
      "273\n",
      "276\n",
      "279\n",
      "282\n",
      "285\n",
      "288\n",
      "291\n",
      "294\n",
      "297\n",
      "300\n",
      "303\n",
      "306\n",
      "309\n",
      "312\n",
      "315\n",
      "318\n",
      "321\n",
      "324\n",
      "327\n",
      "330\n",
      "333\n",
      "336\n",
      "339\n",
      "342\n",
      "345\n",
      "348\n",
      "351\n",
      "354\n",
      "357\n",
      "360\n",
      "363\n",
      "366\n",
      "369\n",
      "372\n",
      "375\n",
      "378\n",
      "381\n",
      "384\n",
      "387\n",
      "390\n",
      "393\n",
      "396\n",
      "399\n"
     ]
    }
   ],
   "source": [
    "i = 40 \n",
    "while i <= 400:\n",
    "    if i%3 == 0:\n",
    "        print(i)\n",
    "    i +=1"
   ]
  },
  {
   "cell_type": "code",
   "execution_count": 122,
   "id": "15a1d194",
   "metadata": {},
   "outputs": [
    {
     "name": "stdout",
     "output_type": "stream",
     "text": [
      "this\n",
      "is\n",
      "the\n",
      "first\n",
      "programming\n",
      "task\n",
      "and\n",
      "i\n",
      "am\n",
      "learning\n",
      "python\n"
     ]
    }
   ],
   "source": [
    "a =\"this is the first programming task zzz yyy and i am learning python\"\n",
    "bb= a.split(\" \")\n",
    "bb\n",
    "\n",
    "v = \"aeiou\"\n",
    "l=0\n",
    "j=0\n",
    "while l  < len(bb):\n",
    "    b = bb[l]\n",
    "    #print(b)\n",
    "    j=0\n",
    "    while j < len(b):\n",
    "        if b[j] in v:\n",
    "            print(b)\n",
    "            break\n",
    "        j=j+1\n",
    "    l=l+1\n",
    "    \n",
    "    "
   ]
  },
  {
   "cell_type": "code",
   "execution_count": 116,
   "id": "4501974c",
   "metadata": {},
   "outputs": [
    {
     "name": "stdout",
     "output_type": "stream",
     "text": [
      "['this', 'is', 'the', 'first', 'programming', 'task', '', 'and', 'i', 'am', 'learning', 'python']\n"
     ]
    }
   ],
   "source": [
    "a =\"this is the first programming task  and i am learning python\"\n",
    "bb= a.split(\" \")\n",
    "print(bb)"
   ]
  },
  {
   "cell_type": "code",
   "execution_count": 117,
   "id": "b59e8328",
   "metadata": {},
   "outputs": [
    {
     "data": {
      "text/plain": [
       "'this'"
      ]
     },
     "execution_count": 117,
     "metadata": {},
     "output_type": "execute_result"
    }
   ],
   "source": [
    "cc= bb[0]\n",
    "cc"
   ]
  },
  {
   "cell_type": "code",
   "execution_count": 118,
   "id": "df61208d",
   "metadata": {},
   "outputs": [
    {
     "data": {
      "text/plain": [
       "'t'"
      ]
     },
     "execution_count": 118,
     "metadata": {},
     "output_type": "execute_result"
    }
   ],
   "source": [
    "cc[0]"
   ]
  },
  {
   "cell_type": "code",
   "execution_count": null,
   "id": "d3c378cf",
   "metadata": {},
   "outputs": [],
   "source": []
  },
  {
   "cell_type": "code",
   "execution_count": 111,
   "id": "4600b0c1",
   "metadata": {},
   "outputs": [
    {
     "data": {
      "text/plain": [
       "datetime.date(2022, 11, 2)"
      ]
     },
     "execution_count": 111,
     "metadata": {},
     "output_type": "execute_result"
    }
   ],
   "source": [
    "import datetime\n",
    "datetime.date.today()"
   ]
  },
  {
   "cell_type": "code",
   "execution_count": 112,
   "id": "5f6ee86d",
   "metadata": {},
   "outputs": [
    {
     "data": {
      "text/plain": [
       "datetime.time(19, 25, 43, 726279)"
      ]
     },
     "execution_count": 112,
     "metadata": {},
     "output_type": "execute_result"
    }
   ],
   "source": [
    "datetime.datetime.now().time()"
   ]
  },
  {
   "cell_type": "code",
   "execution_count": null,
   "id": "a44bff08",
   "metadata": {},
   "outputs": [],
   "source": []
  }
 ],
 "metadata": {
  "kernelspec": {
   "display_name": "Python 3 (ipykernel)",
   "language": "python",
   "name": "python3"
  },
  "language_info": {
   "codemirror_mode": {
    "name": "ipython",
    "version": 3
   },
   "file_extension": ".py",
   "mimetype": "text/x-python",
   "name": "python",
   "nbconvert_exporter": "python",
   "pygments_lexer": "ipython3",
   "version": "3.9.12"
  }
 },
 "nbformat": 4,
 "nbformat_minor": 5
}
