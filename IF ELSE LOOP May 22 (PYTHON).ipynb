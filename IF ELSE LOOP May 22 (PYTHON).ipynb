{
 "cells": [
  {
   "cell_type": "code",
   "execution_count": 1,
   "id": "d4daa4da",
   "metadata": {},
   "outputs": [],
   "source": [
    "a= 10"
   ]
  },
  {
   "cell_type": "code",
   "execution_count": 4,
   "id": "06c635af",
   "metadata": {},
   "outputs": [
    {
     "name": "stdout",
     "output_type": "stream",
     "text": [
      "hello\n"
     ]
    }
   ],
   "source": [
    "if a <= 10:\n",
    "    print(\"hello\")"
   ]
  },
  {
   "cell_type": "code",
   "execution_count": 5,
   "id": "f60723dc",
   "metadata": {},
   "outputs": [],
   "source": [
    "if a>5:\n",
    "    pass"
   ]
  },
  {
   "cell_type": "code",
   "execution_count": 6,
   "id": "78924664",
   "metadata": {},
   "outputs": [
    {
     "name": "stdout",
     "output_type": "stream",
     "text": [
      "the condition is true\n"
     ]
    }
   ],
   "source": [
    "if a <=10:\n",
    "    print(\"the condition is true\")\n",
    "else:\n",
    "    print(\"the condition is flase\")"
   ]
  },
  {
   "cell_type": "code",
   "execution_count": 7,
   "id": "9603d36d",
   "metadata": {},
   "outputs": [
    {
     "name": "stdout",
     "output_type": "stream",
     "text": [
      "the condition is false\n"
     ]
    }
   ],
   "source": [
    "b = 4\n",
    "if b >4:\n",
    "    print(\"the condtion is true\")\n",
    "else:\n",
    "    print(\"the condition is false\")"
   ]
  },
  {
   "cell_type": "code",
   "execution_count": 8,
   "id": "faf58342",
   "metadata": {},
   "outputs": [
    {
     "name": "stdout",
     "output_type": "stream",
     "text": [
      "true case\n"
     ]
    }
   ],
   "source": [
    "if  b==5:\n",
    "    print(\"false case\")\n",
    "elif b==4:\n",
    "    print(\"true case\")\n",
    "else:\n",
    "    print(\"none\")"
   ]
  },
  {
   "cell_type": "code",
   "execution_count": 9,
   "id": "acfbf3b1",
   "metadata": {},
   "outputs": [
    {
     "name": "stdout",
     "output_type": "stream",
     "text": [
      "may the price is same\n"
     ]
    }
   ],
   "source": [
    "price = 500\n",
    "\n",
    "if price > 500:\n",
    "    print(\"may be the prices is more than 500\")\n",
    "elif price ==500:\n",
    "    print(\"may the price is same\")\n",
    "else:\n",
    "    print(\"ignore\")"
   ]
  },
  {
   "cell_type": "code",
   "execution_count": 10,
   "id": "1f3ed54a",
   "metadata": {},
   "outputs": [],
   "source": [
    "l=[1,2,3,4,5,33]"
   ]
  },
  {
   "cell_type": "code",
   "execution_count": 11,
   "id": "9d8a2a7d",
   "metadata": {},
   "outputs": [
    {
     "name": "stdout",
     "output_type": "stream",
     "text": [
      "try to add\n"
     ]
    }
   ],
   "source": [
    "if 2 in l:\n",
    "    print(\"try to add\")\n",
    "elif 3 in l:\n",
    "    print(\"items present\")\n",
    "else:\n",
    "    print(\"changes are there\")\n"
   ]
  },
  {
   "cell_type": "code",
   "execution_count": 14,
   "id": "c6e8740c",
   "metadata": {},
   "outputs": [
    {
     "name": "stdout",
     "output_type": "stream",
     "text": [
      "290\n",
      "i would buy something\n",
      "i would buy shirt\n"
     ]
    }
   ],
   "source": [
    "price = int(input())\n",
    "\n",
    "if price < 500:\n",
    "    print(\"i would buy something\")\n",
    "    if price  < 400:\n",
    "        print(\"i would buy shirt\")\n",
    "    elif price <300:\n",
    "        print(\"i would buy tshirt\")\n",
    "    else:\n",
    "        print(\"i would buy anything\")\n",
    "        \n",
    "else:\n",
    "    print(\"i can buy anything that i like\")"
   ]
  },
  {
   "cell_type": "code",
   "execution_count": 15,
   "id": "9c67f383",
   "metadata": {},
   "outputs": [
    {
     "name": "stdout",
     "output_type": "stream",
     "text": [
      "450\n",
      "NO GRE\n",
      "TOFEL\n"
     ]
    }
   ],
   "source": [
    "marks =int(input())\n",
    "if marks < 600:\n",
    "    print(\"NO GRE\")\n",
    "    if marks < 500:\n",
    "        print(\"TOFEL\")\n",
    "    elif marks <400:\n",
    "        print(\"try something else\")\n",
    "else:\n",
    "    print(\"GRE\")"
   ]
  },
  {
   "cell_type": "code",
   "execution_count": 18,
   "id": "7ad6b864",
   "metadata": {},
   "outputs": [
    {
     "name": "stdout",
     "output_type": "stream",
     "text": [
      "enter a number: -4\n",
      "entered number is negative number\n"
     ]
    }
   ],
   "source": [
    "val =float(input(\"enter a number: \"))\n",
    "if val >=0 :\n",
    "    if val ==0:\n",
    "        print(\"entered value is 0\")\n",
    "    else:\n",
    "        print(\"emtered number is positive number\")\n",
    "else:\n",
    "    print(\"entered number is negative number\")"
   ]
  },
  {
   "cell_type": "code",
   "execution_count": 19,
   "id": "8468ce43",
   "metadata": {},
   "outputs": [
    {
     "name": "stdout",
     "output_type": "stream",
     "text": [
      "try to do something\n"
     ]
    }
   ],
   "source": [
    "a = 10\n",
    "if a <10 or a ==10:\n",
    "    print(\"try to do something\")"
   ]
  },
  {
   "cell_type": "code",
   "execution_count": 21,
   "id": "24686cd6",
   "metadata": {},
   "outputs": [
    {
     "name": "stdout",
     "output_type": "stream",
     "text": [
      "either condition is not satisfied\n"
     ]
    }
   ],
   "source": [
    "if a < 10 and a >10:\n",
    "    print(\"try to do something\")\n",
    "else:\n",
    "    print(\"either condition is not satisfied\")"
   ]
  },
  {
   "cell_type": "code",
   "execution_count": 22,
   "id": "bf079b71",
   "metadata": {},
   "outputs": [
    {
     "name": "stdout",
     "output_type": "stream",
     "text": [
      "both the keys and values are verified\n"
     ]
    }
   ],
   "source": [
    "d ={\"key1\":\"kaushik\", \"key2\":\"boni\"}\n",
    "if d[\"key1\"] == \"kaushik\" and d[\"key2\"] == \"boni\":\n",
    "    print(\"both the keys and values are verified\")\n",
    "else:\n",
    "    print(\"either of the keys/values are not verified\")"
   ]
  },
  {
   "cell_type": "code",
   "execution_count": 23,
   "id": "bf0e1a73",
   "metadata": {},
   "outputs": [],
   "source": [
    "l = [1,2,3,4,5,6]\n"
   ]
  },
  {
   "cell_type": "code",
   "execution_count": 24,
   "id": "fd9eafad",
   "metadata": {},
   "outputs": [
    {
     "name": "stdout",
     "output_type": "stream",
     "text": [
      "1\n",
      "2\n",
      "3\n",
      "4\n",
      "5\n",
      "6\n"
     ]
    }
   ],
   "source": [
    "for i in l:\n",
    "    print(i)"
   ]
  },
  {
   "cell_type": "code",
   "execution_count": 25,
   "id": "7a0fe36e",
   "metadata": {},
   "outputs": [],
   "source": [
    "j = [1,2,3,4,5,True,\"kkk\",2.3]"
   ]
  },
  {
   "cell_type": "code",
   "execution_count": 26,
   "id": "4533845d",
   "metadata": {},
   "outputs": [
    {
     "name": "stdout",
     "output_type": "stream",
     "text": [
      "10\n",
      "20\n",
      "30\n",
      "40\n",
      "50\n",
      "string or bool :  True\n",
      "string or bool :  kkk\n"
     ]
    }
   ],
   "source": [
    "for i in j:\n",
    "    if  type(i) == int:\n",
    "        print(i*10)\n",
    "    if type (i)  == str or type(i) == bool:\n",
    "        print(\"string or bool : \",i)"
   ]
  },
  {
   "cell_type": "code",
   "execution_count": null,
   "id": "daee2072",
   "metadata": {},
   "outputs": [],
   "source": []
  }
 ],
 "metadata": {
  "kernelspec": {
   "display_name": "Python 3 (ipykernel)",
   "language": "python",
   "name": "python3"
  },
  "language_info": {
   "codemirror_mode": {
    "name": "ipython",
    "version": 3
   },
   "file_extension": ".py",
   "mimetype": "text/x-python",
   "name": "python",
   "nbconvert_exporter": "python",
   "pygments_lexer": "ipython3",
   "version": "3.9.12"
  }
 },
 "nbformat": 4,
 "nbformat_minor": 5
}
