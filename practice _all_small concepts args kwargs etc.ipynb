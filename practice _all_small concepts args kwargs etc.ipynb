{
 "cells": [
  {
   "cell_type": "code",
   "execution_count": 1,
   "id": "6df296bf",
   "metadata": {},
   "outputs": [],
   "source": [
    "l = [1,2,3,4,5]\n"
   ]
  },
  {
   "cell_type": "code",
   "execution_count": 25,
   "id": "018c3b46",
   "metadata": {},
   "outputs": [],
   "source": [
    "def a(n):\n",
    "        return(n*5)"
   ]
  },
  {
   "cell_type": "code",
   "execution_count": 26,
   "id": "529d81c3",
   "metadata": {},
   "outputs": [
    {
     "data": {
      "text/plain": [
       "<map at 0x1b62f39a2b0>"
      ]
     },
     "execution_count": 26,
     "metadata": {},
     "output_type": "execute_result"
    }
   ],
   "source": [
    "map(a,l)"
   ]
  },
  {
   "cell_type": "code",
   "execution_count": 27,
   "id": "8b9d44b0",
   "metadata": {},
   "outputs": [
    {
     "data": {
      "text/plain": [
       "[5, 10, 15, 20, 25]"
      ]
     },
     "execution_count": 27,
     "metadata": {},
     "output_type": "execute_result"
    }
   ],
   "source": [
    "list(map(a,l))"
   ]
  },
  {
   "cell_type": "code",
   "execution_count": 28,
   "id": "b9cf7194",
   "metadata": {},
   "outputs": [],
   "source": [
    "def a(n,o):\n",
    "        return(n*5+o)"
   ]
  },
  {
   "cell_type": "code",
   "execution_count": 29,
   "id": "51886c57",
   "metadata": {},
   "outputs": [
    {
     "data": {
      "text/plain": [
       "975"
      ]
     },
     "execution_count": 29,
     "metadata": {},
     "output_type": "execute_result"
    }
   ],
   "source": [
    "\n",
    "from functools import reduce\n",
    "reduce(a,l)"
   ]
  },
  {
   "cell_type": "code",
   "execution_count": 30,
   "id": "ed7de896",
   "metadata": {},
   "outputs": [],
   "source": [
    "def a(n):\n",
    "    if n%2==0:\n",
    "        return True"
   ]
  },
  {
   "cell_type": "code",
   "execution_count": 31,
   "id": "6c286372",
   "metadata": {},
   "outputs": [
    {
     "data": {
      "text/plain": [
       "<filter at 0x1b62e17ba60>"
      ]
     },
     "execution_count": 31,
     "metadata": {},
     "output_type": "execute_result"
    }
   ],
   "source": [
    "filter(a,l)"
   ]
  },
  {
   "cell_type": "code",
   "execution_count": 32,
   "id": "9b80efe8",
   "metadata": {},
   "outputs": [
    {
     "data": {
      "text/plain": [
       "[2, 4]"
      ]
     },
     "execution_count": 32,
     "metadata": {},
     "output_type": "execute_result"
    }
   ],
   "source": [
    "list(filter(a,l))"
   ]
  },
  {
   "cell_type": "code",
   "execution_count": 33,
   "id": "3970783a",
   "metadata": {},
   "outputs": [],
   "source": [
    "b = iter(l)"
   ]
  },
  {
   "cell_type": "code",
   "execution_count": 34,
   "id": "f4ff1624",
   "metadata": {},
   "outputs": [
    {
     "data": {
      "text/plain": [
       "1"
      ]
     },
     "execution_count": 34,
     "metadata": {},
     "output_type": "execute_result"
    }
   ],
   "source": [
    "next(b)"
   ]
  },
  {
   "cell_type": "code",
   "execution_count": 35,
   "id": "162a6093",
   "metadata": {},
   "outputs": [
    {
     "data": {
      "text/plain": [
       "2"
      ]
     },
     "execution_count": 35,
     "metadata": {},
     "output_type": "execute_result"
    }
   ],
   "source": [
    "next(b)"
   ]
  },
  {
   "cell_type": "code",
   "execution_count": 50,
   "id": "263d69d8",
   "metadata": {},
   "outputs": [],
   "source": [
    "def a(b,*c):\n",
    "    for i in c:\n",
    "        if i%b == 0:\n",
    "            yield i"
   ]
  },
  {
   "cell_type": "code",
   "execution_count": 51,
   "id": "f07e91b6",
   "metadata": {},
   "outputs": [
    {
     "data": {
      "text/plain": [
       "<generator object a at 0x000001B62FDB1350>"
      ]
     },
     "execution_count": 51,
     "metadata": {},
     "output_type": "execute_result"
    }
   ],
   "source": [
    "a(1,4,4,4,5,5)"
   ]
  },
  {
   "cell_type": "code",
   "execution_count": 52,
   "id": "7f5a8a5a",
   "metadata": {},
   "outputs": [],
   "source": [
    "b=list(a(2,4,5,6,8,7))"
   ]
  },
  {
   "cell_type": "code",
   "execution_count": 53,
   "id": "86fa894e",
   "metadata": {},
   "outputs": [
    {
     "data": {
      "text/plain": [
       "[4, 6, 8]"
      ]
     },
     "execution_count": 53,
     "metadata": {},
     "output_type": "execute_result"
    }
   ],
   "source": [
    "b"
   ]
  },
  {
   "cell_type": "code",
   "execution_count": 54,
   "id": "31515a72",
   "metadata": {},
   "outputs": [
    {
     "data": {
      "text/plain": [
       "<generator object a at 0x000001B62FDB13C0>"
      ]
     },
     "execution_count": 54,
     "metadata": {},
     "output_type": "execute_result"
    }
   ],
   "source": [
    "a(4,4,8,1,12,16,44,67,88)"
   ]
  },
  {
   "cell_type": "code",
   "execution_count": 55,
   "id": "174e9fd5",
   "metadata": {},
   "outputs": [
    {
     "data": {
      "text/plain": [
       "[4, 8, 12, 16, 44, 88]"
      ]
     },
     "execution_count": 55,
     "metadata": {},
     "output_type": "execute_result"
    }
   ],
   "source": [
    "list(a(4,4,8,1,12,16,44,67,88))"
   ]
  },
  {
   "cell_type": "code",
   "execution_count": 62,
   "id": "5ec2148c",
   "metadata": {},
   "outputs": [],
   "source": [
    "def b (c, **d):\n",
    "    print(c)\n",
    "    for i,j in d.items():\n",
    "        print(\"key value pair is \",i,j)\n",
    "        print(d)\n",
    "    print(type(d))"
   ]
  },
  {
   "cell_type": "code",
   "execution_count": 63,
   "id": "8f1d9b09",
   "metadata": {},
   "outputs": [
    {
     "name": "stdout",
     "output_type": "stream",
     "text": [
      "232\n",
      "key value pair is  a 44\n",
      "{'a': 44, 'b': 'fgfg'}\n",
      "key value pair is  b fgfg\n",
      "{'a': 44, 'b': 'fgfg'}\n",
      "<class 'dict'>\n"
     ]
    }
   ],
   "source": [
    "b(232,a=44,b=\"fgfg\")"
   ]
  },
  {
   "cell_type": "code",
   "execution_count": null,
   "id": "38389b99",
   "metadata": {},
   "outputs": [],
   "source": [
    "typ\n"
   ]
  },
  {
   "cell_type": "code",
   "execution_count": 65,
   "id": "7ffbd729",
   "metadata": {},
   "outputs": [],
   "source": [
    "path = r\"C:\\Users\\ksamant\\Desktop\\AIML\\Ineuron\""
   ]
  },
  {
   "cell_type": "code",
   "execution_count": 66,
   "id": "cbcf2b05",
   "metadata": {},
   "outputs": [],
   "source": [
    "f = open(path+\"\\\\\"+\"kesto1.txt\", \"w+\")"
   ]
  },
  {
   "cell_type": "code",
   "execution_count": 67,
   "id": "b881d6ed",
   "metadata": {},
   "outputs": [
    {
     "data": {
      "text/plain": [
       "65"
      ]
     },
     "execution_count": 67,
     "metadata": {},
     "output_type": "execute_result"
    }
   ],
   "source": [
    "f.write(\"this is the second try \\n  i am also trying to create is something\")"
   ]
  },
  {
   "cell_type": "code",
   "execution_count": 68,
   "id": "b35bec23",
   "metadata": {},
   "outputs": [],
   "source": [
    "f.close()"
   ]
  },
  {
   "cell_type": "code",
   "execution_count": 69,
   "id": "287f7d54",
   "metadata": {},
   "outputs": [],
   "source": [
    "f = open(path+\"\\\\\"+\"kesto1.txt\",\"a+\")\n"
   ]
  },
  {
   "cell_type": "code",
   "execution_count": 70,
   "id": "3baa62a0",
   "metadata": {},
   "outputs": [
    {
     "data": {
      "text/plain": [
       "61"
      ]
     },
     "execution_count": 70,
     "metadata": {},
     "output_type": "execute_result"
    }
   ],
   "source": [
    "f.write(\"here i am trying to append \\n let's see if i can add something\")"
   ]
  },
  {
   "cell_type": "code",
   "execution_count": 71,
   "id": "2fb19e13",
   "metadata": {},
   "outputs": [],
   "source": [
    "f.close()"
   ]
  },
  {
   "cell_type": "code",
   "execution_count": 73,
   "id": "a1b3d65e",
   "metadata": {},
   "outputs": [],
   "source": [
    "f = open(path+\"\\\\\"+\"kesto1.txt\",\"r\")"
   ]
  },
  {
   "cell_type": "code",
   "execution_count": 74,
   "id": "f93d7d82",
   "metadata": {},
   "outputs": [
    {
     "data": {
      "text/plain": [
       "'this is the second try \\n'"
      ]
     },
     "execution_count": 74,
     "metadata": {},
     "output_type": "execute_result"
    }
   ],
   "source": [
    "f.readline()"
   ]
  },
  {
   "cell_type": "code",
   "execution_count": 79,
   "id": "33b7394c",
   "metadata": {},
   "outputs": [
    {
     "data": {
      "text/plain": [
       "0"
      ]
     },
     "execution_count": 79,
     "metadata": {},
     "output_type": "execute_result"
    }
   ],
   "source": [
    "f.seek(0)"
   ]
  },
  {
   "cell_type": "code",
   "execution_count": 80,
   "id": "44e41055",
   "metadata": {},
   "outputs": [
    {
     "data": {
      "text/plain": [
       "['this is the second try \\n',\n",
       " '  i am also trying to create is somethinghere i am trying to append \\n',\n",
       " \" let's see if i can add something\"]"
      ]
     },
     "execution_count": 80,
     "metadata": {},
     "output_type": "execute_result"
    }
   ],
   "source": [
    "f.readlines()"
   ]
  },
  {
   "cell_type": "code",
   "execution_count": 82,
   "id": "7b7d2d93",
   "metadata": {},
   "outputs": [
    {
     "data": {
      "text/plain": [
       "0"
      ]
     },
     "execution_count": 82,
     "metadata": {},
     "output_type": "execute_result"
    }
   ],
   "source": [
    "f.seek(0)"
   ]
  },
  {
   "cell_type": "code",
   "execution_count": 83,
   "id": "6dbab4db",
   "metadata": {},
   "outputs": [
    {
     "data": {
      "text/plain": [
       "'this is the second try '"
      ]
     },
     "execution_count": 83,
     "metadata": {},
     "output_type": "execute_result"
    }
   ],
   "source": [
    "f.read(23)"
   ]
  },
  {
   "cell_type": "code",
   "execution_count": 84,
   "id": "5367247e",
   "metadata": {},
   "outputs": [
    {
     "data": {
      "text/plain": [
       "23"
      ]
     },
     "execution_count": 84,
     "metadata": {},
     "output_type": "execute_result"
    }
   ],
   "source": [
    "f.tell()"
   ]
  },
  {
   "cell_type": "code",
   "execution_count": 93,
   "id": "9a4c29e4",
   "metadata": {},
   "outputs": [
    {
     "name": "stdout",
     "output_type": "stream",
     "text": [
      "error as : unsupported operand type(s) for %: 'int' and 'str'\n"
     ]
    }
   ],
   "source": [
    "try:\n",
    "    \n",
    "    for i in range(10):\n",
    "        if i % \"a\" ==0:\n",
    "            print(\"this \",i*10)\n",
    "        \n",
    "except Exception as e:\n",
    "    print(\"error as :\",e)"
   ]
  },
  {
   "cell_type": "code",
   "execution_count": 111,
   "id": "f39a86c9",
   "metadata": {},
   "outputs": [
    {
     "name": "stdout",
     "output_type": "stream",
     "text": [
      "error as : unsupported operand type(s) for %: 'int' and 'str'\n",
      "first T\n",
      "second r\n",
      "third a\n",
      "Traceback (most recent call last):\n",
      "  File \"C:\\Users\\ksamant\\AppData\\Local\\Temp\\ipykernel_6496\\700554831.py\", line 6, in <cell line: 2>\n",
      "    if i % \"a\" ==0:\n",
      "TypeError: unsupported operand type(s) for %: 'int' and 'str'\n",
      "\n",
      "would print anything 80\n"
     ]
    }
   ],
   "source": [
    "import traceback\n",
    "try:\n",
    "    \n",
    "    for i in range(10):\n",
    "#         raise Exception\n",
    "        if i % \"a\" ==0:\n",
    "            print(\"this \",i*10)\n",
    "            \n",
    "        \n",
    "except Exception as e:\n",
    "    print(\"error as :\",e)\n",
    "    a = traceback.format_exc()\n",
    "#     a=list(a)\n",
    "    print(\"first\",a[0])\n",
    "    print(\"second\",a[1])\n",
    "    print(\"third\",a[2])\n",
    "    print(a)\n",
    "finally:\n",
    "    print(\"would print anything\",10*8)\n",
    "    "
   ]
  },
  {
   "cell_type": "code",
   "execution_count": null,
   "id": "987b58e0",
   "metadata": {},
   "outputs": [],
   "source": []
  }
 ],
 "metadata": {
  "kernelspec": {
   "display_name": "Python 3 (ipykernel)",
   "language": "python",
   "name": "python3"
  },
  "language_info": {
   "codemirror_mode": {
    "name": "ipython",
    "version": 3
   },
   "file_extension": ".py",
   "mimetype": "text/x-python",
   "name": "python",
   "nbconvert_exporter": "python",
   "pygments_lexer": "ipython3",
   "version": "3.9.12"
  }
 },
 "nbformat": 4,
 "nbformat_minor": 5
}
