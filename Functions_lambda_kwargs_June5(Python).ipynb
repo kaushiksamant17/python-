{
 "cells": [
  {
   "cell_type": "markdown",
   "id": "10defb82",
   "metadata": {},
   "source": [
    "# Function basic"
   ]
  },
  {
   "cell_type": "code",
   "execution_count": 13,
   "id": "abefb4ce",
   "metadata": {},
   "outputs": [],
   "source": [
    "def test(a,b):\n",
    "    \"\"\"this returns the sum and product\"\"\"\n",
    "    return(f\"sum is :{a+b}  and product is: {a*b}\")\n",
    "    "
   ]
  },
  {
   "cell_type": "code",
   "execution_count": 14,
   "id": "0553a546",
   "metadata": {},
   "outputs": [
    {
     "data": {
      "text/plain": [
       "'sum is :9  and product is: 20'"
      ]
     },
     "execution_count": 14,
     "metadata": {},
     "output_type": "execute_result"
    }
   ],
   "source": [
    "test(5,4)"
   ]
  },
  {
   "cell_type": "code",
   "execution_count": 15,
   "id": "cb3b1771",
   "metadata": {},
   "outputs": [
    {
     "data": {
      "text/plain": [
       "'sum is :442  and product is: 33957'"
      ]
     },
     "execution_count": 15,
     "metadata": {},
     "output_type": "execute_result"
    }
   ],
   "source": [
    "test(a =99 ,b=343)"
   ]
  },
  {
   "cell_type": "markdown",
   "id": "de3e8bf0",
   "metadata": {},
   "source": [
    "# *ARGS"
   ]
  },
  {
   "cell_type": "code",
   "execution_count": 19,
   "id": "8f9aa928",
   "metadata": {},
   "outputs": [],
   "source": [
    "def test1(*sdfs):\n",
    "    return(sdfs)"
   ]
  },
  {
   "cell_type": "code",
   "execution_count": 20,
   "id": "96f4fc4c",
   "metadata": {},
   "outputs": [
    {
     "data": {
      "text/plain": [
       "(33, 5, 5, 43, 'sgfsg')"
      ]
     },
     "execution_count": 20,
     "metadata": {},
     "output_type": "execute_result"
    }
   ],
   "source": [
    "test1(33,5,5,43,'sgfsg')"
   ]
  },
  {
   "cell_type": "code",
   "execution_count": 21,
   "id": "5d11ccb5",
   "metadata": {},
   "outputs": [
    {
     "data": {
      "text/plain": [
       "('erwe', 4, 6, 3, 'rtre')"
      ]
     },
     "execution_count": 21,
     "metadata": {},
     "output_type": "execute_result"
    }
   ],
   "source": [
    "test1(\"erwe\",4,6,3,\"rtre\")"
   ]
  },
  {
   "cell_type": "code",
   "execution_count": 22,
   "id": "72d619d7",
   "metadata": {},
   "outputs": [],
   "source": [
    "def test2(a,b,d,*sdfs):\n",
    "    return (a,b,sdfs)"
   ]
  },
  {
   "cell_type": "code",
   "execution_count": 23,
   "id": "1e52eaa5",
   "metadata": {},
   "outputs": [
    {
     "data": {
      "text/plain": [
       "(1, 2, (5, 6, 5))"
      ]
     },
     "execution_count": 23,
     "metadata": {},
     "output_type": "execute_result"
    }
   ],
   "source": [
    "test2(1,2,4,5,6,5)"
   ]
  },
  {
   "cell_type": "markdown",
   "id": "76d1914c",
   "metadata": {},
   "source": [
    "# *KWARGS"
   ]
  },
  {
   "cell_type": "code",
   "execution_count": 24,
   "id": "4a3e19ef",
   "metadata": {},
   "outputs": [],
   "source": [
    "def test9(**kwargs):\n",
    "    return(kwargs)"
   ]
  },
  {
   "cell_type": "code",
   "execution_count": 29,
   "id": "ff255072",
   "metadata": {},
   "outputs": [
    {
     "data": {
      "text/plain": [
       "{'a': 34, 'sfg': 'lkjlj', 'f': 'dsgf'}"
      ]
     },
     "execution_count": 29,
     "metadata": {},
     "output_type": "execute_result"
    }
   ],
   "source": [
    "test9(a=34,sfg=\"lkjlj\", f= \"dsgf\")"
   ]
  },
  {
   "cell_type": "code",
   "execution_count": 35,
   "id": "b99c420b",
   "metadata": {},
   "outputs": [],
   "source": [
    "def test10(**k):\n",
    "    return(k)\n",
    "    "
   ]
  },
  {
   "cell_type": "code",
   "execution_count": 40,
   "id": "fbc17457",
   "metadata": {},
   "outputs": [
    {
     "data": {
      "text/plain": [
       "{'s': 9, 'mbb': 993, 'sf': 99}"
      ]
     },
     "execution_count": 40,
     "metadata": {},
     "output_type": "execute_result"
    }
   ],
   "source": [
    "test10(s=9,mbb =993,sf= 99)"
   ]
  },
  {
   "cell_type": "markdown",
   "id": "b56bbe63",
   "metadata": {},
   "source": [
    "# Lambda"
   ]
  },
  {
   "cell_type": "code",
   "execution_count": 43,
   "id": "486197e4",
   "metadata": {},
   "outputs": [],
   "source": [
    "a = lambda c,d: c*d"
   ]
  },
  {
   "cell_type": "code",
   "execution_count": 44,
   "id": "b8d4833a",
   "metadata": {},
   "outputs": [
    {
     "data": {
      "text/plain": [
       "8"
      ]
     },
     "execution_count": 44,
     "metadata": {},
     "output_type": "execute_result"
    }
   ],
   "source": [
    "a(2,4)"
   ]
  },
  {
   "cell_type": "code",
   "execution_count": 47,
   "id": "5990b037",
   "metadata": {},
   "outputs": [],
   "source": [
    "def a(c,d):\n",
    "    return(c*d)"
   ]
  },
  {
   "cell_type": "code",
   "execution_count": 48,
   "id": "7efd445c",
   "metadata": {},
   "outputs": [
    {
     "data": {
      "text/plain": [
       "8"
      ]
     },
     "execution_count": 48,
     "metadata": {},
     "output_type": "execute_result"
    }
   ],
   "source": [
    "a(2,4)"
   ]
  },
  {
   "cell_type": "code",
   "execution_count": 52,
   "id": "c16b22d8",
   "metadata": {},
   "outputs": [],
   "source": [
    "c  = lambda *g : g"
   ]
  },
  {
   "cell_type": "code",
   "execution_count": 53,
   "id": "74c03c00",
   "metadata": {},
   "outputs": [
    {
     "data": {
      "text/plain": [
       "(1, 2)"
      ]
     },
     "execution_count": 53,
     "metadata": {},
     "output_type": "execute_result"
    }
   ],
   "source": [
    "c(1,2)"
   ]
  },
  {
   "cell_type": "code",
   "execution_count": 55,
   "id": "7c2a18ca",
   "metadata": {},
   "outputs": [
    {
     "data": {
      "text/plain": [
       "(2, 3, 4, 5, 'kk')"
      ]
     },
     "execution_count": 55,
     "metadata": {},
     "output_type": "execute_result"
    }
   ],
   "source": [
    "c(2,3,4,5,\"kk\")"
   ]
  },
  {
   "cell_type": "code",
   "execution_count": 56,
   "id": "ed6a5c1e",
   "metadata": {},
   "outputs": [],
   "source": [
    "def c(*g):\n",
    "    return g"
   ]
  },
  {
   "cell_type": "code",
   "execution_count": 57,
   "id": "15974ad0",
   "metadata": {},
   "outputs": [
    {
     "data": {
      "text/plain": [
       "(1, 2)"
      ]
     },
     "execution_count": 57,
     "metadata": {},
     "output_type": "execute_result"
    }
   ],
   "source": [
    "c(1,2)"
   ]
  },
  {
   "cell_type": "code",
   "execution_count": 58,
   "id": "c919555c",
   "metadata": {},
   "outputs": [
    {
     "data": {
      "text/plain": [
       "(3, 4, 5, 'gjlja', True)"
      ]
     },
     "execution_count": 58,
     "metadata": {},
     "output_type": "execute_result"
    }
   ],
   "source": [
    "c(3,4,5,\"gjlja\",True)"
   ]
  },
  {
   "cell_type": "markdown",
   "id": "de199940",
   "metadata": {},
   "source": [
    "# List Comprehension"
   ]
  },
  {
   "cell_type": "code",
   "execution_count": 59,
   "id": "b50f91cc",
   "metadata": {},
   "outputs": [
    {
     "data": {
      "text/plain": [
       "[0, 1, 2, 3, 4, 5, 6, 7, 8, 9]"
      ]
     },
     "execution_count": 59,
     "metadata": {},
     "output_type": "execute_result"
    }
   ],
   "source": [
    "[i for i in range(10)]"
   ]
  },
  {
   "cell_type": "code",
   "execution_count": 60,
   "id": "9d3db50f",
   "metadata": {},
   "outputs": [
    {
     "data": {
      "text/plain": [
       "[0, 2, 4, 6, 8]"
      ]
     },
     "execution_count": 60,
     "metadata": {},
     "output_type": "execute_result"
    }
   ],
   "source": [
    "[i for i in range(10) if i%2 ==0]"
   ]
  },
  {
   "cell_type": "code",
   "execution_count": 64,
   "id": "6da38abc",
   "metadata": {},
   "outputs": [
    {
     "data": {
      "text/plain": [
       "5"
      ]
     },
     "execution_count": 64,
     "metadata": {},
     "output_type": "execute_result"
    }
   ],
   "source": [
    "test14(a =10,b=\"sudh\",c=345,l=[1,2,4,\"dud\"])"
   ]
  },
  {
   "cell_type": "code",
   "execution_count": 63,
   "id": "17847832",
   "metadata": {},
   "outputs": [],
   "source": [
    "def test14(**k):\n",
    "    count = 0\n",
    "    for i,j in k.items():\n",
    "        if type(i) ==  str:\n",
    "            count +=1\n",
    "        if  type(j) == str:\n",
    "            count +=1\n",
    "    return(count)\n",
    "    "
   ]
  },
  {
   "cell_type": "code",
   "execution_count": 66,
   "id": "4b57b361",
   "metadata": {},
   "outputs": [
    {
     "name": "stdout",
     "output_type": "stream",
     "text": [
      "3\n",
      "5\n",
      "7\n",
      "11\n",
      "13\n",
      "17\n",
      "19\n",
      "23\n",
      "29\n",
      "31\n",
      "37\n",
      "41\n",
      "43\n",
      "47\n",
      "53\n",
      "59\n",
      "61\n",
      "67\n",
      "71\n",
      "73\n",
      "79\n",
      "83\n",
      "89\n",
      "97\n"
     ]
    }
   ],
   "source": [
    "for i in range(100):\n",
    "    for j in range(2,i):\n",
    "        if i%j == 0:\n",
    "            break\n",
    "        if j == i-1 :\n",
    "            print(i)"
   ]
  },
  {
   "cell_type": "code",
   "execution_count": 86,
   "id": "a02bb4bf",
   "metadata": {},
   "outputs": [
    {
     "ename": "SyntaxError",
     "evalue": "invalid syntax (1287306676.py, line 1)",
     "output_type": "error",
     "traceback": [
      "\u001b[1;36m  Input \u001b[1;32mIn [86]\u001b[1;36m\u001b[0m\n\u001b[1;33m    a = lambda *d : str([j for i in d j=j+i])\u001b[0m\n\u001b[1;37m                                      ^\u001b[0m\n\u001b[1;31mSyntaxError\u001b[0m\u001b[1;31m:\u001b[0m invalid syntax\n"
     ]
    }
   ],
   "source": [
    "a = lambda *d : str([j for i in d j=j+i])"
   ]
  },
  {
   "cell_type": "code",
   "execution_count": 77,
   "id": "da392c71",
   "metadata": {},
   "outputs": [
    {
     "data": {
      "text/plain": [
       "'[25, 69, 47]'"
      ]
     },
     "execution_count": 77,
     "metadata": {},
     "output_type": "execute_result"
    }
   ],
   "source": [
    "a(12,34,23)"
   ]
  },
  {
   "cell_type": "code",
   "execution_count": 78,
   "id": "965d64d3",
   "metadata": {},
   "outputs": [
    {
     "ename": "TypeError",
     "evalue": "can only concatenate str (not \"int\") to str",
     "output_type": "error",
     "traceback": [
      "\u001b[1;31m---------------------------------------------------------------------------\u001b[0m",
      "\u001b[1;31mTypeError\u001b[0m                                 Traceback (most recent call last)",
      "Input \u001b[1;32mIn [78]\u001b[0m, in \u001b[0;36m<cell line: 1>\u001b[1;34m()\u001b[0m\n\u001b[1;32m----> 1\u001b[0m \u001b[43ma\u001b[49m\u001b[43m(\u001b[49m\u001b[38;5;124;43m\"\u001b[39;49m\u001b[38;5;124;43mdf\u001b[39;49m\u001b[38;5;124;43m\"\u001b[39;49m\u001b[43m,\u001b[49m\u001b[38;5;124;43m\"\u001b[39;49m\u001b[38;5;124;43mdfdf\u001b[39;49m\u001b[38;5;124;43m\"\u001b[39;49m\u001b[43m)\u001b[49m\n",
      "Input \u001b[1;32mIn [76]\u001b[0m, in \u001b[0;36m<lambda>\u001b[1;34m(*d)\u001b[0m\n\u001b[1;32m----> 1\u001b[0m a \u001b[38;5;241m=\u001b[39m \u001b[38;5;28;01mlambda\u001b[39;00m \u001b[38;5;241m*\u001b[39md : \u001b[38;5;28mstr\u001b[39m([i\u001b[38;5;241m+\u001b[39mi\u001b[38;5;241m+\u001b[39m\u001b[38;5;241m1\u001b[39m \u001b[38;5;28;01mfor\u001b[39;00m i \u001b[38;5;129;01min\u001b[39;00m d ])\n",
      "Input \u001b[1;32mIn [76]\u001b[0m, in \u001b[0;36m<listcomp>\u001b[1;34m(.0)\u001b[0m\n\u001b[1;32m----> 1\u001b[0m a \u001b[38;5;241m=\u001b[39m \u001b[38;5;28;01mlambda\u001b[39;00m \u001b[38;5;241m*\u001b[39md : \u001b[38;5;28mstr\u001b[39m([\u001b[43mi\u001b[49m\u001b[38;5;241;43m+\u001b[39;49m\u001b[43mi\u001b[49m\u001b[38;5;241;43m+\u001b[39;49m\u001b[38;5;241;43m1\u001b[39;49m \u001b[38;5;28;01mfor\u001b[39;00m i \u001b[38;5;129;01min\u001b[39;00m d ])\n",
      "\u001b[1;31mTypeError\u001b[0m: can only concatenate str (not \"int\") to str"
     ]
    }
   ],
   "source": [
    "a(\"df\",\"dfdf\")"
   ]
  },
  {
   "cell_type": "code",
   "execution_count": 79,
   "id": "88b22d25",
   "metadata": {},
   "outputs": [
    {
     "data": {
      "text/plain": [
       "['dfd', 'hhg']"
      ]
     },
     "execution_count": 79,
     "metadata": {},
     "output_type": "execute_result"
    }
   ],
   "source": [
    "l =[\"dfd\",\"hhg\"]\n",
    "l"
   ]
  },
  {
   "cell_type": "code",
   "execution_count": 89,
   "id": "c293c309",
   "metadata": {},
   "outputs": [
    {
     "name": "stdout",
     "output_type": "stream",
     "text": [
      "hhghhg\n"
     ]
    }
   ],
   "source": [
    "j=\"\"\n",
    "for i in l:\n",
    "    i = str(i)+str(i)\n",
    "print(i)"
   ]
  },
  {
   "cell_type": "code",
   "execution_count": 95,
   "id": "9bc262ae",
   "metadata": {},
   "outputs": [],
   "source": [
    "b= lambda h : [i*i for i in range(h) if i <=100]"
   ]
  },
  {
   "cell_type": "code",
   "execution_count": 94,
   "id": "f370be69",
   "metadata": {},
   "outputs": [
    {
     "data": {
      "text/plain": [
       "[0,\n",
       " 1,\n",
       " 4,\n",
       " 9,\n",
       " 16,\n",
       " 25,\n",
       " 36,\n",
       " 49,\n",
       " 64,\n",
       " 81,\n",
       " 100,\n",
       " 121,\n",
       " 144,\n",
       " 169,\n",
       " 196,\n",
       " 225,\n",
       " 256,\n",
       " 289,\n",
       " 324,\n",
       " 361,\n",
       " 400,\n",
       " 441,\n",
       " 484,\n",
       " 529,\n",
       " 576,\n",
       " 625,\n",
       " 676,\n",
       " 729,\n",
       " 784,\n",
       " 841,\n",
       " 900,\n",
       " 961,\n",
       " 1024,\n",
       " 1089,\n",
       " 1156,\n",
       " 1225,\n",
       " 1296,\n",
       " 1369,\n",
       " 1444,\n",
       " 1521,\n",
       " 1600,\n",
       " 1681,\n",
       " 1764,\n",
       " 1849,\n",
       " 1936,\n",
       " 2025,\n",
       " 2116,\n",
       " 2209,\n",
       " 2304,\n",
       " 2401,\n",
       " 2500,\n",
       " 2601,\n",
       " 2704,\n",
       " 2809,\n",
       " 2916,\n",
       " 3025,\n",
       " 3136,\n",
       " 3249,\n",
       " 3364,\n",
       " 3481,\n",
       " 3600,\n",
       " 3721,\n",
       " 3844,\n",
       " 3969,\n",
       " 4096,\n",
       " 4225,\n",
       " 4356,\n",
       " 4489,\n",
       " 4624,\n",
       " 4761,\n",
       " 4900,\n",
       " 5041,\n",
       " 5184,\n",
       " 5329,\n",
       " 5476,\n",
       " 5625,\n",
       " 5776,\n",
       " 5929,\n",
       " 6084,\n",
       " 6241,\n",
       " 6400,\n",
       " 6561,\n",
       " 6724,\n",
       " 6889,\n",
       " 7056,\n",
       " 7225,\n",
       " 7396,\n",
       " 7569,\n",
       " 7744,\n",
       " 7921,\n",
       " 8100,\n",
       " 8281,\n",
       " 8464,\n",
       " 8649,\n",
       " 8836,\n",
       " 9025,\n",
       " 9216,\n",
       " 9409,\n",
       " 9604,\n",
       " 9801]"
      ]
     },
     "execution_count": 94,
     "metadata": {},
     "output_type": "execute_result"
    }
   ],
   "source": [
    "b(200)"
   ]
  },
  {
   "cell_type": "code",
   "execution_count": 96,
   "id": "627ff1e2",
   "metadata": {},
   "outputs": [
    {
     "data": {
      "text/plain": [
       "9801"
      ]
     },
     "execution_count": 96,
     "metadata": {},
     "output_type": "execute_result"
    }
   ],
   "source": [
    "99*99"
   ]
  },
  {
   "cell_type": "code",
   "execution_count": null,
   "id": "8681c4b6",
   "metadata": {},
   "outputs": [],
   "source": []
  }
 ],
 "metadata": {
  "kernelspec": {
   "display_name": "Python 3 (ipykernel)",
   "language": "python",
   "name": "python3"
  },
  "language_info": {
   "codemirror_mode": {
    "name": "ipython",
    "version": 3
   },
   "file_extension": ".py",
   "mimetype": "text/x-python",
   "name": "python",
   "nbconvert_exporter": "python",
   "pygments_lexer": "ipython3",
   "version": "3.9.12"
  }
 },
 "nbformat": 4,
 "nbformat_minor": 5
}
