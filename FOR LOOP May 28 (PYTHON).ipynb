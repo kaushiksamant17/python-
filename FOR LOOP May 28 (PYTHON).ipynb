{
 "cells": [
  {
   "cell_type": "code",
   "execution_count": 1,
   "id": "6b88f80e",
   "metadata": {},
   "outputs": [],
   "source": [
    "l= [1,2,3,4,\"kUAHI\",3+4j]"
   ]
  },
  {
   "cell_type": "code",
   "execution_count": 10,
   "id": "3058bb71",
   "metadata": {},
   "outputs": [
    {
     "name": "stdout",
     "output_type": "stream",
     "text": [
      "1\n",
      "<class 'int'>\n",
      "<class 'int'>\n",
      "2\n",
      "<class 'int'>\n",
      "<class 'int'>\n",
      "3\n",
      "<class 'int'>\n",
      "<class 'int'>\n",
      "4\n",
      "<class 'int'>\n",
      "<class 'int'>\n",
      "kUAHI\n",
      "<class 'str'>\n",
      "<class 'str'>\n",
      "(3+4j)\n",
      "<class 'complex'>\n",
      "<class 'complex'>\n"
     ]
    }
   ],
   "source": [
    "for i in l:\n",
    "    print(i)\n",
    "    print(type(i))\n",
    "    a=type(i)\n",
    "    print(a)"
   ]
  },
  {
   "cell_type": "code",
   "execution_count": 12,
   "id": "21b9f965",
   "metadata": {},
   "outputs": [],
   "source": [
    "for i in l:\n",
    "    #print(i)\n",
    "    pass"
   ]
  },
  {
   "cell_type": "code",
   "execution_count": 15,
   "id": "870e0fdd",
   "metadata": {},
   "outputs": [
    {
     "name": "stdout",
     "output_type": "stream",
     "text": [
      "1\n",
      "2\n",
      "3\n",
      "4\n",
      "kUAHI\n",
      "(3+4j)\n",
      "all elements are printed\n"
     ]
    }
   ],
   "source": [
    "for i in l:\n",
    "    print(i)\n",
    "else:\n",
    "    print(\"all elements are printed\")"
   ]
  },
  {
   "cell_type": "code",
   "execution_count": 16,
   "id": "8ee6f9c0",
   "metadata": {},
   "outputs": [
    {
     "name": "stdout",
     "output_type": "stream",
     "text": [
      "1\n",
      "2\n",
      "3\n",
      "4\n",
      "kUAHI\n",
      "(3+4j)\n"
     ]
    }
   ],
   "source": [
    "for i in l:\n",
    "    print(i)\n",
    "    if i == (3+4j):\n",
    "        break\n",
    "else:\n",
    "    print(\"all elements are done with printing\")"
   ]
  },
  {
   "cell_type": "code",
   "execution_count": null,
   "id": "718b649b",
   "metadata": {},
   "outputs": [],
   "source": []
  },
  {
   "cell_type": "code",
   "execution_count": 13,
   "id": "3e96ce73",
   "metadata": {},
   "outputs": [],
   "source": [
    "a ={\"a\":22,\"bb\":\"rrtb\",22:3+4j,(1,23):2343}"
   ]
  },
  {
   "cell_type": "code",
   "execution_count": 14,
   "id": "1debff4e",
   "metadata": {},
   "outputs": [
    {
     "name": "stdout",
     "output_type": "stream",
     "text": [
      "a\n",
      "22\n",
      "bb\n",
      "rrtb\n",
      "22\n",
      "(3+4j)\n",
      "(1, 23)\n",
      "2343\n"
     ]
    }
   ],
   "source": [
    "for i,j in a.items():\n",
    "    print(i)\n",
    "    print(j)"
   ]
  },
  {
   "cell_type": "code",
   "execution_count": 23,
   "id": "63ccbfe9",
   "metadata": {},
   "outputs": [
    {
     "name": "stdout",
     "output_type": "stream",
     "text": [
      "a\n",
      "bb\n",
      "22\n",
      "(1, 23)\n"
     ]
    }
   ],
   "source": [
    "for i in a.keys():\n",
    "    print(i)"
   ]
  },
  {
   "cell_type": "code",
   "execution_count": 24,
   "id": "4a1f9ee0",
   "metadata": {},
   "outputs": [
    {
     "name": "stdout",
     "output_type": "stream",
     "text": [
      "22\n",
      "rrtb\n",
      "(3+4j)\n",
      "2343\n"
     ]
    }
   ],
   "source": [
    "for i in a.values():\n",
    "    print(i)"
   ]
  },
  {
   "cell_type": "code",
   "execution_count": null,
   "id": "ee7f0d5f",
   "metadata": {},
   "outputs": [],
   "source": []
  },
  {
   "cell_type": "code",
   "execution_count": 17,
   "id": "b047ef64",
   "metadata": {},
   "outputs": [],
   "source": [
    "t =(1,2,3,\"kk\",2+4j)"
   ]
  },
  {
   "cell_type": "code",
   "execution_count": 18,
   "id": "c12d5081",
   "metadata": {},
   "outputs": [
    {
     "name": "stdout",
     "output_type": "stream",
     "text": [
      "1\n",
      "2\n",
      "3\n",
      "kk\n",
      "(2+4j)\n"
     ]
    }
   ],
   "source": [
    "for i in t:\n",
    "    print(i)"
   ]
  },
  {
   "cell_type": "code",
   "execution_count": 19,
   "id": "b1ccc53b",
   "metadata": {},
   "outputs": [],
   "source": [
    "se = {1,2,3,\"dfdh\",98,234,321,44,5,4,5+5j}"
   ]
  },
  {
   "cell_type": "code",
   "execution_count": 20,
   "id": "c296b163",
   "metadata": {},
   "outputs": [
    {
     "name": "stdout",
     "output_type": "stream",
     "text": [
      "321\n",
      "1\n",
      "2\n",
      "3\n",
      "98\n",
      "5\n",
      "4\n",
      "234\n",
      "44\n",
      "(5+5j)\n",
      "dfdh\n"
     ]
    }
   ],
   "source": [
    "for i in se:\n",
    "    print(i)"
   ]
  },
  {
   "cell_type": "code",
   "execution_count": 21,
   "id": "4ca73f20",
   "metadata": {},
   "outputs": [
    {
     "data": {
      "text/plain": [
       "{(5+5j), 1, 2, 234, 3, 321, 4, 44, 5, 98, 'dfdh'}"
      ]
     },
     "execution_count": 21,
     "metadata": {},
     "output_type": "execute_result"
    }
   ],
   "source": [
    "se"
   ]
  },
  {
   "cell_type": "code",
   "execution_count": 22,
   "id": "05c8c4eb",
   "metadata": {},
   "outputs": [
    {
     "data": {
      "text/plain": [
       "{(5+5j), 1, 2, 234, 3, 321, 4, 44, 5, 98, 'dfdh'}"
      ]
     },
     "execution_count": 22,
     "metadata": {},
     "output_type": "execute_result"
    }
   ],
   "source": [
    "se"
   ]
  },
  {
   "cell_type": "code",
   "execution_count": 25,
   "id": "cd80f658",
   "metadata": {},
   "outputs": [
    {
     "name": "stdout",
     "output_type": "stream",
     "text": [
      "0\n",
      "1\n",
      "2\n",
      "3\n",
      "4\n",
      "5\n",
      "6\n",
      "7\n",
      "8\n",
      "9\n"
     ]
    }
   ],
   "source": [
    "for i in range(10):\n",
    "    print(i)"
   ]
  },
  {
   "cell_type": "code",
   "execution_count": 27,
   "id": "c0872dc5",
   "metadata": {},
   "outputs": [
    {
     "name": "stdout",
     "output_type": "stream",
     "text": [
      "1\n",
      "3\n",
      "5\n",
      "7\n",
      "9\n"
     ]
    }
   ],
   "source": [
    "for i in range(1,10,2):\n",
    "    print(i)"
   ]
  },
  {
   "cell_type": "code",
   "execution_count": 31,
   "id": "f97f9611",
   "metadata": {},
   "outputs": [
    {
     "name": "stdout",
     "output_type": "stream",
     "text": [
      "10\n",
      "9\n",
      "8\n",
      "7\n",
      "6\n",
      "5\n",
      "4\n",
      "3\n",
      "2\n"
     ]
    }
   ],
   "source": [
    "for i in range(10,1,-1):\n",
    "    print(i)"
   ]
  },
  {
   "cell_type": "code",
   "execution_count": 30,
   "id": "3ba6d46d",
   "metadata": {},
   "outputs": [
    {
     "name": "stdout",
     "output_type": "stream",
     "text": [
      "\n",
      "\n",
      "boni \n",
      "\n",
      "boni boni \n",
      "\n",
      "boni boni boni \n",
      "\n",
      "boni boni boni boni \n",
      "\n"
     ]
    }
   ],
   "source": [
    "for i in range(5):\n",
    "    for j in range(i):\n",
    "        print(\"boni\",end =\" \")\n",
    "    print(\"\\n\")"
   ]
  },
  {
   "cell_type": "code",
   "execution_count": 34,
   "id": "439481f6",
   "metadata": {},
   "outputs": [
    {
     "name": "stdout",
     "output_type": "stream",
     "text": [
      "boni boni boni boni boni \n",
      "\n",
      "boni boni boni boni \n",
      "\n",
      "boni boni boni \n",
      "\n",
      "boni boni \n",
      "\n",
      "boni \n",
      "\n"
     ]
    }
   ],
   "source": [
    "for i in range(5,0,-1):\n",
    "    for j in range(i):\n",
    "        print(\"boni\",end=\" \")\n",
    "    print('\\n')"
   ]
  },
  {
   "cell_type": "code",
   "execution_count": 50,
   "id": "2ad9af8a",
   "metadata": {},
   "outputs": [
    {
     "name": "stdout",
     "output_type": "stream",
     "text": [
      "                    \n",
      "\n",
      "        kkk         \n",
      "\n",
      "      kkk kkk       \n",
      "\n",
      "    kkk kkk kkk     \n",
      "\n",
      "  kkk kkk kkk kkk   \n",
      "\n"
     ]
    }
   ],
   "source": [
    "m=5\n",
    "for i in range(5):  \n",
    "    for j in range(m,0,-1):\n",
    "        print(\" \",end =\" \")\n",
    "    for k in range(i):\n",
    "        print(\"kkk\",end=\" \")\n",
    "    for l in range(m,0,-1):\n",
    "        print(\" \",end=\" \")\n",
    "    m=m-1\n",
    "    print(\"\\n\")"
   ]
  },
  {
   "cell_type": "code",
   "execution_count": 66,
   "id": "576e40cf",
   "metadata": {},
   "outputs": [
    {
     "name": "stdout",
     "output_type": "stream",
     "text": [
      "          \n",
      "\n",
      "        kkk \n",
      "\n",
      "      kkk kkk \n",
      "\n",
      "    kkk kkk kkk \n",
      "\n",
      "  kkk kkk kkk kkk \n",
      "\n",
      "kkk kkk kkk kkk kkk \n",
      "\n",
      "  kkk kkk kkk kkk \n",
      "\n",
      "    kkk kkk kkk \n",
      "\n",
      "      kkk kkk \n",
      "\n",
      "        kkk \n",
      "\n"
     ]
    }
   ],
   "source": [
    "mm=5\n",
    "for i in range(5):\n",
    "    for j in range(mm,0,-1):\n",
    "        print(\" \",end =\" \")\n",
    "    for k in range(i):\n",
    "        print(\"kkk\",end =\" \")\n",
    "    mm -=1\n",
    "    print(\"\\n\")\n",
    "\n",
    "mm=5            \n",
    "for o in range(5):\n",
    "    for m in range(o):\n",
    "        print(\" \",end =\" \")\n",
    "    for n in range(mm,0,-1):\n",
    "        print(\"kkk\",end =\" \")\n",
    "    mm -=1\n",
    "    print(\"\\n\")\n",
    "    #for o in range(i)"
   ]
  },
  {
   "cell_type": "code",
   "execution_count": 67,
   "id": "52990fcd",
   "metadata": {},
   "outputs": [
    {
     "name": "stdout",
     "output_type": "stream",
     "text": [
      "6 n\n",
      "5 o\n",
      "4 r\n",
      "3 u\n",
      "2 e\n",
      "1 n\n",
      "0 i\n"
     ]
    }
   ],
   "source": [
    "s= \"ineuron\"\n",
    "for i in range(len(s)-1,-1,-1):\n",
    "    print(i,s[i])"
   ]
  },
  {
   "cell_type": "code",
   "execution_count": 68,
   "id": "cf35ea5e",
   "metadata": {},
   "outputs": [],
   "source": [
    "l ={\"sud\":\"kkk\",\"ere\":222,123234:\"SS\",4545:7667,(3,4,5):7676}"
   ]
  },
  {
   "cell_type": "code",
   "execution_count": 73,
   "id": "595bfd59",
   "metadata": {},
   "outputs": [
    {
     "name": "stdout",
     "output_type": "stream",
     "text": [
      "[222, 123234, 4545, 7667, 7676, 3, 4, 5]\n"
     ]
    }
   ],
   "source": [
    "a= [ ]\n",
    "for i,j in l.items():\n",
    "    if type(i) == int:\n",
    "        a.append(i)\n",
    "    if type(j) == int:\n",
    "        a.append(j)\n",
    "    if type(i) == tuple:\n",
    "        aa = i\n",
    "        for m in aa:\n",
    "            if type(m) == int:\n",
    "                a.append(m)\n",
    "    if type(j) ==  tuple:\n",
    "        bb = i \n",
    "        for n in bb:\n",
    "            if type(n) == int:\n",
    "                a.append(n)\n",
    "print(a)"
   ]
  },
  {
   "cell_type": "code",
   "execution_count": 75,
   "id": "4fe3e5ad",
   "metadata": {},
   "outputs": [
    {
     "data": {
      "text/plain": [
       "8"
      ]
     },
     "execution_count": 75,
     "metadata": {},
     "output_type": "execute_result"
    }
   ],
   "source": [
    "len(a)"
   ]
  },
  {
   "cell_type": "code",
   "execution_count": 76,
   "id": "c0c2e029",
   "metadata": {},
   "outputs": [],
   "source": [
    "s = \"sdbslfjljpoahwehrashfhpaewiorip\"\n"
   ]
  },
  {
   "cell_type": "code",
   "execution_count": 77,
   "id": "e6b7edde",
   "metadata": {},
   "outputs": [],
   "source": [
    "s11 = set(s)"
   ]
  },
  {
   "cell_type": "code",
   "execution_count": 78,
   "id": "8a74d970",
   "metadata": {},
   "outputs": [
    {
     "data": {
      "text/plain": [
       "14"
      ]
     },
     "execution_count": 78,
     "metadata": {},
     "output_type": "execute_result"
    }
   ],
   "source": [
    "len(s11)"
   ]
  },
  {
   "cell_type": "code",
   "execution_count": 80,
   "id": "1f8393c4",
   "metadata": {},
   "outputs": [
    {
     "name": "stdout",
     "output_type": "stream",
     "text": [
      "d  :  1\n",
      "e  :  2\n",
      "s  :  3\n",
      "a  :  3\n",
      "f  :  2\n",
      "w  :  2\n",
      "r  :  2\n",
      "p  :  3\n",
      "j  :  2\n",
      "b  :  1\n",
      "o  :  2\n",
      "h  :  4\n",
      "i  :  2\n",
      "l  :  2\n"
     ]
    }
   ],
   "source": [
    "for jj in s11:\n",
    "    print(jj,\" : \",s.count(jj))"
   ]
  },
  {
   "cell_type": "code",
   "execution_count": 93,
   "id": "bc1e7c0f",
   "metadata": {},
   "outputs": [
    {
     "name": "stdout",
     "output_type": "stream",
     "text": [
      "3\n",
      "5\n",
      "7\n",
      "11\n",
      "13\n",
      "17\n",
      "19\n",
      "23\n",
      "29\n",
      "31\n",
      "37\n",
      "41\n",
      "43\n",
      "47\n"
     ]
    }
   ],
   "source": [
    "count =0\n",
    "for i in range(50):\n",
    "    for j in range(2,i):\n",
    "        if i%j == 0:\n",
    "            break\n",
    "        if j == i-1:\n",
    "            print(i)\n",
    "#             count=count+1\n",
    "#     if count ==1:\n",
    "#         print(i)\n",
    "    count = 0\n",
    "            "
   ]
  },
  {
   "cell_type": "code",
   "execution_count": 112,
   "id": "e1cb0489",
   "metadata": {},
   "outputs": [
    {
     "name": "stdout",
     "output_type": "stream",
     "text": [
      "3\n",
      "5\n",
      "7\n",
      "11\n",
      "13\n",
      "17\n",
      "19\n",
      "23\n",
      "29\n",
      "31\n",
      "37\n",
      "41\n",
      "43\n",
      "47\n"
     ]
    }
   ],
   "source": [
    "count =0\n",
    "for ki in range(50):\n",
    "    for j in range(2,ki+1):\n",
    "        if ki%j == 0:\n",
    "            break\n",
    "        if j == ki-1:\n",
    "            print(ki)\n",
    "#             count=count+1\n",
    "#     if count ==1:\n",
    "#         print(i)\n",
    "    count = 0"
   ]
  },
  {
   "cell_type": "code",
   "execution_count": 99,
   "id": "8ad7b525",
   "metadata": {},
   "outputs": [
    {
     "name": "stdout",
     "output_type": "stream",
     "text": [
      "\n",
      "\n",
      "ineuron \n",
      "\n",
      "ineuron ineuron \n",
      "\n",
      "ineuron ineuron ineuron \n",
      "\n",
      "ineuron ineuron ineuron ineuron \n",
      "\n"
     ]
    }
   ],
   "source": [
    "for i in range(5):\n",
    "    for j in range(i):\n",
    "        print(\"ineuron\",end= \" \")\n",
    "    print(\"\\n\")\n"
   ]
  },
  {
   "cell_type": "code",
   "execution_count": 107,
   "id": "ca15f1fb",
   "metadata": {},
   "outputs": [
    {
     "name": "stdout",
     "output_type": "stream",
     "text": [
      "                    \n",
      "\n",
      "                ineuron \n",
      "\n",
      "            ineuron ineuron \n",
      "\n",
      "        ineuron ineuron ineuron \n",
      "\n",
      "    ineuron ineuron ineuron ineuron \n",
      "\n",
      "ineuron ineuron ineuron ineuron ineuron \n",
      "\n",
      "    ineuron ineuron ineuron ineuron \n",
      "\n",
      "        ineuron ineuron ineuron \n",
      "\n",
      "            ineuron ineuron \n",
      "\n",
      "                ineuron \n",
      "\n"
     ]
    }
   ],
   "source": [
    "m=5\n",
    "for i in range(5):\n",
    "    for j in range(m,0,-1):\n",
    "        print(\"   \",end= \" \")\n",
    "    for k in range(i):\n",
    "        print(\"ineuron\",end = \" \")\n",
    "    m -=1\n",
    "    print(\"\\n\")\n",
    "    \n",
    "o =5\n",
    "for u in range(5):\n",
    "    for w in range(u):\n",
    "        print(\"   \",end = \" \")\n",
    "    for v in range(o,0,-1):\n",
    "        print(\"ineuron\",end = \" \")\n",
    "    o = o-1\n",
    "    print(\"\\n\")"
   ]
  },
  {
   "cell_type": "code",
   "execution_count": 122,
   "id": "ff35f276",
   "metadata": {},
   "outputs": [
    {
     "name": "stdout",
     "output_type": "stream",
     "text": [
      "1\n",
      "3\n",
      "5\n",
      "7\n",
      "11\n",
      "13\n",
      "17\n",
      "19\n",
      "23\n",
      "29\n",
      "31\n",
      "37\n",
      "41\n",
      "43\n",
      "47\n",
      "53\n",
      "59\n",
      "61\n",
      "67\n",
      "71\n",
      "73\n",
      "79\n",
      "83\n",
      "89\n",
      "97\n"
     ]
    }
   ],
   "source": [
    "print(1)\n",
    "for i in range(100):\n",
    "\n",
    "    for j in range(2,i):\n",
    "        if i%j == 0:\n",
    "            break\n",
    "        if j == i-1:\n",
    "            print(i)\n",
    "            "
   ]
  },
  {
   "cell_type": "code",
   "execution_count": 161,
   "id": "6ef2ef8e",
   "metadata": {},
   "outputs": [
    {
     "name": "stdout",
     "output_type": "stream",
     "text": [
      "               \n",
      "\n",
      "            #$%@ \n",
      "\n",
      "         #$%@ #$%@ \n",
      "\n",
      "      #$%@ #$%@ #$%@ \n",
      "\n",
      "   #$%@ #$%@ #$%@ #$%@ \n",
      "\n",
      "#$%@ #$%@ #$%@ #$%@ #$%@ \n",
      "\n",
      "   #$%@ #$%@ #$%@ #$%@ \n",
      "\n",
      "      #$%@ #$%@ #$%@ \n",
      "\n",
      "         #$%@ #$%@ \n",
      "\n",
      "            #$%@ \n",
      "\n"
     ]
    }
   ],
   "source": [
    "m=5\n",
    "for i in range(5):\n",
    "    for j in range(m,0,-1):\n",
    "        print(\"  \",end=\" \")\n",
    "    for k in range(i):\n",
    "        print(\"#$%@\",end= \" \")\n",
    "    m -=1\n",
    "    print(\"\\n\")\n",
    "\n",
    "z=5\n",
    "for u in range(5):\n",
    "    for w in range(u):\n",
    "        print(\"  \",end=\" \")\n",
    "    for v in range(z,0,-1):\n",
    "        print(\"#$%@\",end=\" \")\n",
    "    print(\"\\n\")\n",
    "    z -=1"
   ]
  },
  {
   "cell_type": "code",
   "execution_count": null,
   "id": "729e4d54",
   "metadata": {},
   "outputs": [],
   "source": []
  }
 ],
 "metadata": {
  "kernelspec": {
   "display_name": "Python 3 (ipykernel)",
   "language": "python",
   "name": "python3"
  },
  "language_info": {
   "codemirror_mode": {
    "name": "ipython",
    "version": 3
   },
   "file_extension": ".py",
   "mimetype": "text/x-python",
   "name": "python",
   "nbconvert_exporter": "python",
   "pygments_lexer": "ipython3",
   "version": "3.9.12"
  }
 },
 "nbformat": 4,
 "nbformat_minor": 5
}
