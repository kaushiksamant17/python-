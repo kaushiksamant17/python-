{
 "cells": [
  {
   "cell_type": "code",
   "execution_count": 1,
   "id": "2796c3b5",
   "metadata": {},
   "outputs": [
    {
     "name": "stdout",
     "output_type": "stream",
     "text": [
      "1\n",
      "2\n",
      "3\n",
      "4\n",
      "5\n",
      "6\n",
      "7\n",
      "8\n",
      "9\n"
     ]
    }
   ],
   "source": [
    "a=1\n",
    "b=10\n",
    "while a<10:\n",
    "    print(a)\n",
    "    a +=1"
   ]
  },
  {
   "cell_type": "code",
   "execution_count": 3,
   "id": "ccab812f",
   "metadata": {},
   "outputs": [
    {
     "name": "stdout",
     "output_type": "stream",
     "text": [
      "1\n",
      "2\n",
      "3\n",
      "4\n",
      "5\n",
      "6\n",
      "7\n",
      "8\n",
      "9\n",
      "code executed\n"
     ]
    }
   ],
   "source": [
    "a=1\n",
    "b=10\n",
    "while a < b:\n",
    "    print(a)\n",
    "    a = a+1\n",
    "else:\n",
    "    print(\"code executed\")"
   ]
  },
  {
   "cell_type": "code",
   "execution_count": 9,
   "id": "a9ee0819",
   "metadata": {},
   "outputs": [
    {
     "name": "stdout",
     "output_type": "stream",
     "text": [
      "1\n",
      "2\n",
      "3\n",
      "4\n",
      "5\n",
      "6\n",
      "7\n"
     ]
    }
   ],
   "source": [
    "a =1 \n",
    "b =10\n",
    "while a < b:\n",
    "    if a == 2:\n",
    "        pass\n",
    "    if a == 33:\n",
    "        print(a)\n",
    "        continue\n",
    "    if a == 8:\n",
    "        break\n",
    "    print(a)\n",
    "    a =a+1"
   ]
  },
  {
   "cell_type": "code",
   "execution_count": 10,
   "id": "de3db0ba",
   "metadata": {},
   "outputs": [
    {
     "name": "stdout",
     "output_type": "stream",
     "text": [
      "enter some name: kk\n",
      "glad to meet kk\n",
      "enter some name: ank\n",
      "glad to meet ank\n",
      "enter some name: kest\n",
      "glad to meet kest\n",
      "enter some name: sac\n",
      "glad to meet sac\n"
     ]
    },
    {
     "ename": "KeyboardInterrupt",
     "evalue": "Interrupted by user",
     "output_type": "error",
     "traceback": [
      "\u001b[1;31m---------------------------------------------------------------------------\u001b[0m",
      "\u001b[1;31mKeyboardInterrupt\u001b[0m                         Traceback (most recent call last)",
      "Input \u001b[1;32mIn [10]\u001b[0m, in \u001b[0;36m<cell line: 2>\u001b[1;34m()\u001b[0m\n\u001b[0;32m      1\u001b[0m \u001b[38;5;28;01mwhile\u001b[39;00m \u001b[38;5;28;01mTrue\u001b[39;00m:\n\u001b[1;32m----> 2\u001b[0m     \u001b[38;5;28mstr\u001b[39m\u001b[38;5;241m=\u001b[39m\u001b[38;5;28;43minput\u001b[39;49m\u001b[43m(\u001b[49m\u001b[38;5;124;43m\"\u001b[39;49m\u001b[38;5;124;43menter some name: \u001b[39;49m\u001b[38;5;124;43m\"\u001b[39;49m\u001b[43m)\u001b[49m\n\u001b[0;32m      3\u001b[0m     \u001b[38;5;28mprint\u001b[39m(\u001b[38;5;124mf\u001b[39m\u001b[38;5;124m\"\u001b[39m\u001b[38;5;124mglad to meet \u001b[39m\u001b[38;5;132;01m{\u001b[39;00m\u001b[38;5;28mstr\u001b[39m\u001b[38;5;132;01m}\u001b[39;00m\u001b[38;5;124m\"\u001b[39m)\n",
      "File \u001b[1;32m~\\Anaconda3\\lib\\site-packages\\ipykernel\\kernelbase.py:1075\u001b[0m, in \u001b[0;36mKernel.raw_input\u001b[1;34m(self, prompt)\u001b[0m\n\u001b[0;32m   1071\u001b[0m \u001b[38;5;28;01mif\u001b[39;00m \u001b[38;5;129;01mnot\u001b[39;00m \u001b[38;5;28mself\u001b[39m\u001b[38;5;241m.\u001b[39m_allow_stdin:\n\u001b[0;32m   1072\u001b[0m     \u001b[38;5;28;01mraise\u001b[39;00m StdinNotImplementedError(\n\u001b[0;32m   1073\u001b[0m         \u001b[38;5;124m\"\u001b[39m\u001b[38;5;124mraw_input was called, but this frontend does not support input requests.\u001b[39m\u001b[38;5;124m\"\u001b[39m\n\u001b[0;32m   1074\u001b[0m     )\n\u001b[1;32m-> 1075\u001b[0m \u001b[38;5;28;01mreturn\u001b[39;00m \u001b[38;5;28;43mself\u001b[39;49m\u001b[38;5;241;43m.\u001b[39;49m\u001b[43m_input_request\u001b[49m\u001b[43m(\u001b[49m\n\u001b[0;32m   1076\u001b[0m \u001b[43m    \u001b[49m\u001b[38;5;28;43mstr\u001b[39;49m\u001b[43m(\u001b[49m\u001b[43mprompt\u001b[49m\u001b[43m)\u001b[49m\u001b[43m,\u001b[49m\n\u001b[0;32m   1077\u001b[0m \u001b[43m    \u001b[49m\u001b[38;5;28;43mself\u001b[39;49m\u001b[38;5;241;43m.\u001b[39;49m\u001b[43m_parent_ident\u001b[49m\u001b[43m[\u001b[49m\u001b[38;5;124;43m\"\u001b[39;49m\u001b[38;5;124;43mshell\u001b[39;49m\u001b[38;5;124;43m\"\u001b[39;49m\u001b[43m]\u001b[49m\u001b[43m,\u001b[49m\n\u001b[0;32m   1078\u001b[0m \u001b[43m    \u001b[49m\u001b[38;5;28;43mself\u001b[39;49m\u001b[38;5;241;43m.\u001b[39;49m\u001b[43mget_parent\u001b[49m\u001b[43m(\u001b[49m\u001b[38;5;124;43m\"\u001b[39;49m\u001b[38;5;124;43mshell\u001b[39;49m\u001b[38;5;124;43m\"\u001b[39;49m\u001b[43m)\u001b[49m\u001b[43m,\u001b[49m\n\u001b[0;32m   1079\u001b[0m \u001b[43m    \u001b[49m\u001b[43mpassword\u001b[49m\u001b[38;5;241;43m=\u001b[39;49m\u001b[38;5;28;43;01mFalse\u001b[39;49;00m\u001b[43m,\u001b[49m\n\u001b[0;32m   1080\u001b[0m \u001b[43m\u001b[49m\u001b[43m)\u001b[49m\n",
      "File \u001b[1;32m~\\Anaconda3\\lib\\site-packages\\ipykernel\\kernelbase.py:1120\u001b[0m, in \u001b[0;36mKernel._input_request\u001b[1;34m(self, prompt, ident, parent, password)\u001b[0m\n\u001b[0;32m   1117\u001b[0m             \u001b[38;5;28;01mbreak\u001b[39;00m\n\u001b[0;32m   1118\u001b[0m \u001b[38;5;28;01mexcept\u001b[39;00m \u001b[38;5;167;01mKeyboardInterrupt\u001b[39;00m:\n\u001b[0;32m   1119\u001b[0m     \u001b[38;5;66;03m# re-raise KeyboardInterrupt, to truncate traceback\u001b[39;00m\n\u001b[1;32m-> 1120\u001b[0m     \u001b[38;5;28;01mraise\u001b[39;00m \u001b[38;5;167;01mKeyboardInterrupt\u001b[39;00m(\u001b[38;5;124m\"\u001b[39m\u001b[38;5;124mInterrupted by user\u001b[39m\u001b[38;5;124m\"\u001b[39m) \u001b[38;5;28;01mfrom\u001b[39;00m \u001b[38;5;28mNone\u001b[39m\n\u001b[0;32m   1121\u001b[0m \u001b[38;5;28;01mexcept\u001b[39;00m \u001b[38;5;167;01mException\u001b[39;00m:\n\u001b[0;32m   1122\u001b[0m     \u001b[38;5;28mself\u001b[39m\u001b[38;5;241m.\u001b[39mlog\u001b[38;5;241m.\u001b[39mwarning(\u001b[38;5;124m\"\u001b[39m\u001b[38;5;124mInvalid Message:\u001b[39m\u001b[38;5;124m\"\u001b[39m, exc_info\u001b[38;5;241m=\u001b[39m\u001b[38;5;28;01mTrue\u001b[39;00m)\n",
      "\u001b[1;31mKeyboardInterrupt\u001b[0m: Interrupted by user"
     ]
    }
   ],
   "source": [
    "while True:\n",
    "    str=input(\"enter some name: \")\n",
    "    print(f\"glad to meet {str}\")"
   ]
  },
  {
   "cell_type": "code",
   "execution_count": 11,
   "id": "57bf8a3b",
   "metadata": {},
   "outputs": [],
   "source": [
    "t = (1,2,4,4,5,\"kk\",2+5j)"
   ]
  },
  {
   "cell_type": "code",
   "execution_count": 12,
   "id": "5682632d",
   "metadata": {},
   "outputs": [
    {
     "name": "stdout",
     "output_type": "stream",
     "text": [
      "1\n",
      "2\n",
      "4\n",
      "4\n",
      "5\n",
      "kk\n",
      "(2+5j)\n"
     ]
    }
   ],
   "source": [
    "a =0\n",
    "while a < len(t):\n",
    "    print(t[a])\n",
    "    a +=1"
   ]
  },
  {
   "cell_type": "code",
   "execution_count": 14,
   "id": "67399bd2",
   "metadata": {},
   "outputs": [
    {
     "name": "stdout",
     "output_type": "stream",
     "text": [
      "(2+5j)\n",
      "-1\n",
      "kk\n",
      "-2\n",
      "5\n",
      "-3\n",
      "4\n",
      "-4\n",
      "4\n",
      "-5\n",
      "2\n",
      "-6\n"
     ]
    }
   ],
   "source": [
    "#reverse index\n",
    "a =-1\n",
    "while a > -len(t):\n",
    "    print(t[a])\n",
    "    print(a)\n",
    "    a -=1"
   ]
  },
  {
   "cell_type": "code",
   "execution_count": 17,
   "id": "e34afa5a",
   "metadata": {},
   "outputs": [],
   "source": [
    "d = {\"kk\":2323,\"223\":23,445:789}"
   ]
  },
  {
   "cell_type": "code",
   "execution_count": 16,
   "id": "8ad31342",
   "metadata": {},
   "outputs": [
    {
     "ename": "KeyError",
     "evalue": "-7",
     "output_type": "error",
     "traceback": [
      "\u001b[1;31m---------------------------------------------------------------------------\u001b[0m",
      "\u001b[1;31mKeyError\u001b[0m                                  Traceback (most recent call last)",
      "Input \u001b[1;32mIn [16]\u001b[0m, in \u001b[0;36m<cell line: 1>\u001b[1;34m()\u001b[0m\n\u001b[0;32m      1\u001b[0m \u001b[38;5;28;01mwhile\u001b[39;00m a \u001b[38;5;241m<\u001b[39m \u001b[38;5;28mlen\u001b[39m(d):\n\u001b[1;32m----> 2\u001b[0m     \u001b[38;5;28mprint\u001b[39m(\u001b[43md\u001b[49m\u001b[43m[\u001b[49m\u001b[43ma\u001b[49m\u001b[43m]\u001b[49m)\n",
      "\u001b[1;31mKeyError\u001b[0m: -7"
     ]
    }
   ],
   "source": [
    "while a < len(d):\n",
    "    print(d[a])"
   ]
  },
  {
   "cell_type": "code",
   "execution_count": 24,
   "id": "4b12a4ee",
   "metadata": {},
   "outputs": [],
   "source": [
    "key1 =list(d.keys())"
   ]
  },
  {
   "cell_type": "code",
   "execution_count": 25,
   "id": "a473929d",
   "metadata": {},
   "outputs": [
    {
     "data": {
      "text/plain": [
       "['kk', '223', 445]"
      ]
     },
     "execution_count": 25,
     "metadata": {},
     "output_type": "execute_result"
    }
   ],
   "source": [
    "key1"
   ]
  },
  {
   "cell_type": "code",
   "execution_count": 28,
   "id": "158e283f",
   "metadata": {},
   "outputs": [
    {
     "name": "stdout",
     "output_type": "stream",
     "text": [
      "2323\n",
      "23\n",
      "789\n"
     ]
    }
   ],
   "source": [
    "a=0\n",
    "while a < len(d):\n",
    "    print(d[key1[a]])\n",
    "    a+=1"
   ]
  },
  {
   "cell_type": "code",
   "execution_count": 23,
   "id": "baaaade8",
   "metadata": {},
   "outputs": [
    {
     "ename": "TypeError",
     "evalue": "'dict_keys' object is not subscriptable",
     "output_type": "error",
     "traceback": [
      "\u001b[1;31m---------------------------------------------------------------------------\u001b[0m",
      "\u001b[1;31mTypeError\u001b[0m                                 Traceback (most recent call last)",
      "Input \u001b[1;32mIn [23]\u001b[0m, in \u001b[0;36m<cell line: 1>\u001b[1;34m()\u001b[0m\n\u001b[1;32m----> 1\u001b[0m \u001b[43mkey1\u001b[49m\u001b[43m[\u001b[49m\u001b[38;5;241;43m0\u001b[39;49m\u001b[43m]\u001b[49m\n",
      "\u001b[1;31mTypeError\u001b[0m: 'dict_keys' object is not subscriptable"
     ]
    }
   ],
   "source": [
    "key1[0]"
   ]
  },
  {
   "cell_type": "markdown",
   "id": "1655d5be",
   "metadata": {},
   "source": [
    "# Function"
   ]
  },
  {
   "cell_type": "code",
   "execution_count": 47,
   "id": "9d3d2524",
   "metadata": {},
   "outputs": [],
   "source": [
    "def abc(a,b):\n",
    "    print(f\"sum is {a+b} and product is {a*b}\")"
   ]
  },
  {
   "cell_type": "code",
   "execution_count": 48,
   "id": "8b2d1f1b",
   "metadata": {},
   "outputs": [
    {
     "name": "stdout",
     "output_type": "stream",
     "text": [
      "sum is 5 and product is 4\n"
     ]
    }
   ],
   "source": [
    "abc(1,4)"
   ]
  },
  {
   "cell_type": "code",
   "execution_count": 49,
   "id": "9695f789",
   "metadata": {},
   "outputs": [
    {
     "data": {
      "text/plain": [
       "function"
      ]
     },
     "execution_count": 49,
     "metadata": {},
     "output_type": "execute_result"
    }
   ],
   "source": [
    "type(abc)"
   ]
  },
  {
   "cell_type": "code",
   "execution_count": 50,
   "id": "81740a94",
   "metadata": {},
   "outputs": [],
   "source": [
    "def abc1(a,b):\n",
    "    return(f\"sum is {a+b} and product is{a*b}\")\n"
   ]
  },
  {
   "cell_type": "code",
   "execution_count": 51,
   "id": "9a6d7bcb",
   "metadata": {},
   "outputs": [
    {
     "data": {
      "text/plain": [
       "'sum is 6 and product is8'"
      ]
     },
     "execution_count": 51,
     "metadata": {},
     "output_type": "execute_result"
    }
   ],
   "source": [
    "abc1(2,4)"
   ]
  },
  {
   "cell_type": "code",
   "execution_count": 52,
   "id": "5293c39e",
   "metadata": {},
   "outputs": [
    {
     "data": {
      "text/plain": [
       "function"
      ]
     },
     "execution_count": 52,
     "metadata": {},
     "output_type": "execute_result"
    }
   ],
   "source": [
    "type(abc1)"
   ]
  },
  {
   "cell_type": "code",
   "execution_count": 1,
   "id": "7eddb7f1",
   "metadata": {},
   "outputs": [],
   "source": [
    "def xy():\n",
    "    a =2\n",
    "    b=4\n",
    "    print(\"sum is : \",a+b)"
   ]
  },
  {
   "cell_type": "code",
   "execution_count": 2,
   "id": "d52dd765",
   "metadata": {},
   "outputs": [
    {
     "name": "stdout",
     "output_type": "stream",
     "text": [
      "sum is :  6\n"
     ]
    }
   ],
   "source": [
    "xy()"
   ]
  },
  {
   "cell_type": "code",
   "execution_count": 4,
   "id": "a6d9ec2e",
   "metadata": {},
   "outputs": [
    {
     "name": "stdout",
     "output_type": "stream",
     "text": [
      "sum is :  6\n"
     ]
    },
    {
     "data": {
      "text/plain": [
       "NoneType"
      ]
     },
     "execution_count": 4,
     "metadata": {},
     "output_type": "execute_result"
    }
   ],
   "source": [
    "type(xy())"
   ]
  },
  {
   "cell_type": "code",
   "execution_count": 15,
   "id": "f06b280a",
   "metadata": {},
   "outputs": [],
   "source": [
    "def xyz():\n",
    "    a =2\n",
    "    b=4\n",
    "    return \"sum is : \",a+b"
   ]
  },
  {
   "cell_type": "code",
   "execution_count": 16,
   "id": "2ffc4134",
   "metadata": {},
   "outputs": [
    {
     "data": {
      "text/plain": [
       "('sum is : ', 6)"
      ]
     },
     "execution_count": 16,
     "metadata": {},
     "output_type": "execute_result"
    }
   ],
   "source": [
    "xyz()"
   ]
  },
  {
   "cell_type": "code",
   "execution_count": 17,
   "id": "6e3b91fa",
   "metadata": {},
   "outputs": [
    {
     "data": {
      "text/plain": [
       "tuple"
      ]
     },
     "execution_count": 17,
     "metadata": {},
     "output_type": "execute_result"
    }
   ],
   "source": [
    "type(xyz())"
   ]
  },
  {
   "cell_type": "markdown",
   "id": "24f4e60b",
   "metadata": {},
   "source": [
    "# assignments"
   ]
  },
  {
   "cell_type": "code",
   "execution_count": 25,
   "id": "63602b5e",
   "metadata": {},
   "outputs": [
    {
     "name": "stdout",
     "output_type": "stream",
     "text": [
      "* * \n",
      "\n",
      "* \n",
      "\n",
      "* \n",
      "\n",
      "* \n",
      "\n",
      "* \n",
      "\n",
      "* \n",
      "\n",
      "* \n",
      "\n",
      "* \n",
      "\n",
      "* \n",
      "\n"
     ]
    }
   ],
   "source": [
    "a =2\n",
    "b=1\n",
    "while a <=10:\n",
    "    while b <= a:\n",
    "        print(\"*\",end = \" \")\n",
    "        b +=1\n",
    "    print(\"\\n\")\n",
    "    a +=1\n",
    "        \n",
    "        \n",
    "        "
   ]
  },
  {
   "cell_type": "code",
   "execution_count": 36,
   "id": "96ca14b4",
   "metadata": {
    "scrolled": true
   },
   "outputs": [
    {
     "name": "stdout",
     "output_type": "stream",
     "text": [
      "* \n",
      "\n",
      "* * \n",
      "\n",
      "* * * \n",
      "\n",
      "* * * * \n",
      "\n",
      "* * * * * \n",
      "\n",
      "* * * * * * \n",
      "\n",
      "* * * * * * * \n",
      "\n",
      "* * * * * * * * \n",
      "\n",
      "* * * * * * * * * \n",
      "\n"
     ]
    }
   ],
   "source": [
    "aa= 1\n",
    "\n",
    "while aa < 10:\n",
    "    #print(aa)\n",
    "    bb =0\n",
    "    while bb < aa:\n",
    "        #print(bb)\n",
    "        print(\"*\",end = \" \")\n",
    "        bb = bb +1\n",
    "    print(\"\\n\")\n",
    "    aa =aa+1\n",
    "    "
   ]
  },
  {
   "cell_type": "code",
   "execution_count": 54,
   "id": "f47e3bd3",
   "metadata": {},
   "outputs": [
    {
     "name": "stdout",
     "output_type": "stream",
     "text": [
      "\n",
      "\n",
      "A \n",
      "\n",
      "B C \n",
      "\n",
      "D E F \n",
      "\n",
      "G H I J \n",
      "\n",
      "K L M N O \n",
      "\n",
      "P Q R S T U \n",
      "\n",
      "V W X Y Z  \n",
      " \n",
      "\n",
      "\n"
     ]
    }
   ],
   "source": [
    "k=65\n",
    "for h in range(8):\n",
    "    j=0\n",
    "    while j< h: \n",
    "        if k>90:\n",
    "            print(\" \")\n",
    "        else:\n",
    "            print(chr(k),end =\" \")\n",
    "        k +=1\n",
    "        j +=1\n",
    "    print(\"\\n\")\n",
    "    h +=1"
   ]
  },
  {
   "cell_type": "code",
   "execution_count": 50,
   "id": "8b963ac4",
   "metadata": {},
   "outputs": [
    {
     "data": {
      "text/plain": [
       "'['"
      ]
     },
     "execution_count": 50,
     "metadata": {},
     "output_type": "execute_result"
    }
   ],
   "source": [
    "chr(91)"
   ]
  },
  {
   "cell_type": "code",
   "execution_count": null,
   "id": "c344eeca",
   "metadata": {},
   "outputs": [],
   "source": []
  }
 ],
 "metadata": {
  "kernelspec": {
   "display_name": "Python 3 (ipykernel)",
   "language": "python",
   "name": "python3"
  },
  "language_info": {
   "codemirror_mode": {
    "name": "ipython",
    "version": 3
   },
   "file_extension": ".py",
   "mimetype": "text/x-python",
   "name": "python",
   "nbconvert_exporter": "python",
   "pygments_lexer": "ipython3",
   "version": "3.9.12"
  }
 },
 "nbformat": 4,
 "nbformat_minor": 5
}
