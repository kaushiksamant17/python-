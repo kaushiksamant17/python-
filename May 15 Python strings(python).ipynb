{
 "cells": [
  {
   "cell_type": "code",
   "execution_count": 1,
   "id": "622885f7",
   "metadata": {},
   "outputs": [],
   "source": [
    "s =\"ineuron\""
   ]
  },
  {
   "cell_type": "code",
   "execution_count": 2,
   "id": "5cdbcfd3",
   "metadata": {},
   "outputs": [
    {
     "data": {
      "text/plain": [
       "'e'"
      ]
     },
     "execution_count": 2,
     "metadata": {},
     "output_type": "execute_result"
    }
   ],
   "source": [
    "s[2]"
   ]
  },
  {
   "cell_type": "code",
   "execution_count": 3,
   "id": "5ed0da1c",
   "metadata": {},
   "outputs": [
    {
     "data": {
      "text/plain": [
       "'n'"
      ]
     },
     "execution_count": 3,
     "metadata": {},
     "output_type": "execute_result"
    }
   ],
   "source": [
    "s[-1]"
   ]
  },
  {
   "cell_type": "code",
   "execution_count": 4,
   "id": "a3a3ca9a",
   "metadata": {},
   "outputs": [
    {
     "data": {
      "text/plain": [
       "'this is the first trial'"
      ]
     },
     "execution_count": 4,
     "metadata": {},
     "output_type": "execute_result"
    }
   ],
   "source": [
    "\"this is the first trial\""
   ]
  },
  {
   "cell_type": "code",
   "execution_count": 5,
   "id": "752b63ba",
   "metadata": {},
   "outputs": [
    {
     "data": {
      "text/plain": [
       "\"he is uncle's son\""
      ]
     },
     "execution_count": 5,
     "metadata": {},
     "output_type": "execute_result"
    }
   ],
   "source": [
    "\"he is uncle's son\""
   ]
  },
  {
   "cell_type": "code",
   "execution_count": 7,
   "id": "f3734507",
   "metadata": {},
   "outputs": [],
   "source": [
    "k = 'he is uncle\\'s son'"
   ]
  },
  {
   "cell_type": "code",
   "execution_count": 8,
   "id": "982548fa",
   "metadata": {},
   "outputs": [
    {
     "data": {
      "text/plain": [
       "\"he is uncle's son\""
      ]
     },
     "execution_count": 8,
     "metadata": {},
     "output_type": "execute_result"
    }
   ],
   "source": [
    "k"
   ]
  },
  {
   "cell_type": "code",
   "execution_count": 9,
   "id": "25290c30",
   "metadata": {},
   "outputs": [
    {
     "data": {
      "text/plain": [
       "' is u'"
      ]
     },
     "execution_count": 9,
     "metadata": {},
     "output_type": "execute_result"
    }
   ],
   "source": [
    "k[2:7]"
   ]
  },
  {
   "cell_type": "code",
   "execution_count": 10,
   "id": "27400d49",
   "metadata": {},
   "outputs": [
    {
     "data": {
      "text/plain": [
       "' suc'"
      ]
     },
     "execution_count": 10,
     "metadata": {},
     "output_type": "execute_result"
    }
   ],
   "source": [
    "k[2:9:2]"
   ]
  },
  {
   "cell_type": "code",
   "execution_count": 14,
   "id": "f30cb50c",
   "metadata": {},
   "outputs": [
    {
     "data": {
      "text/plain": [
       "''"
      ]
     },
     "execution_count": 14,
     "metadata": {},
     "output_type": "execute_result"
    }
   ],
   "source": [
    "k[0:7:-1]"
   ]
  },
  {
   "cell_type": "code",
   "execution_count": 15,
   "id": "491cb84a",
   "metadata": {},
   "outputs": [
    {
     "data": {
      "text/plain": [
       "\"nos s'elcnu si eh\""
      ]
     },
     "execution_count": 15,
     "metadata": {},
     "output_type": "execute_result"
    }
   ],
   "source": [
    "k[::-1]"
   ]
  },
  {
   "cell_type": "code",
   "execution_count": 20,
   "id": "a6e89053",
   "metadata": {},
   "outputs": [
    {
     "data": {
      "text/plain": [
       "'elcnu si e'"
      ]
     },
     "execution_count": 20,
     "metadata": {},
     "output_type": "execute_result"
    }
   ],
   "source": [
    "k[10:0:-1]"
   ]
  },
  {
   "cell_type": "code",
   "execution_count": 18,
   "id": "2752eabd",
   "metadata": {},
   "outputs": [
    {
     "data": {
      "text/plain": [
       "'he is uncle'"
      ]
     },
     "execution_count": 18,
     "metadata": {},
     "output_type": "execute_result"
    }
   ],
   "source": [
    "k[0:11]"
   ]
  },
  {
   "cell_type": "code",
   "execution_count": 21,
   "id": "e0ca784e",
   "metadata": {},
   "outputs": [
    {
     "data": {
      "text/plain": [
       "\"he is uncle's \""
      ]
     },
     "execution_count": 21,
     "metadata": {},
     "output_type": "execute_result"
    }
   ],
   "source": [
    "k[:-3]"
   ]
  },
  {
   "cell_type": "code",
   "execution_count": 25,
   "id": "23342bfe",
   "metadata": {},
   "outputs": [
    {
     "data": {
      "text/plain": [
       "\"o '\""
      ]
     },
     "execution_count": 25,
     "metadata": {},
     "output_type": "execute_result"
    }
   ],
   "source": [
    "k[-2:-8:-2]"
   ]
  },
  {
   "cell_type": "code",
   "execution_count": 26,
   "id": "53c4c136",
   "metadata": {},
   "outputs": [
    {
     "data": {
      "text/plain": [
       "\"he is uncle's son\""
      ]
     },
     "execution_count": 26,
     "metadata": {},
     "output_type": "execute_result"
    }
   ],
   "source": [
    "k"
   ]
  },
  {
   "cell_type": "code",
   "execution_count": 27,
   "id": "af860088",
   "metadata": {},
   "outputs": [
    {
     "data": {
      "text/plain": [
       "\"he is uncle's son\""
      ]
     },
     "execution_count": 27,
     "metadata": {},
     "output_type": "execute_result"
    }
   ],
   "source": [
    "k[::]"
   ]
  },
  {
   "cell_type": "code",
   "execution_count": 28,
   "id": "6ae4e6f3",
   "metadata": {},
   "outputs": [
    {
     "data": {
      "text/plain": [
       "''"
      ]
     },
     "execution_count": 28,
     "metadata": {},
     "output_type": "execute_result"
    }
   ],
   "source": [
    "k[:-1:-1]"
   ]
  },
  {
   "cell_type": "code",
   "execution_count": 29,
   "id": "b0b006c8",
   "metadata": {},
   "outputs": [
    {
     "data": {
      "text/plain": [
       "\"he is uncle's sonhe is uncle's son\""
      ]
     },
     "execution_count": 29,
     "metadata": {},
     "output_type": "execute_result"
    }
   ],
   "source": [
    "k*2"
   ]
  },
  {
   "cell_type": "code",
   "execution_count": 30,
   "id": "13d23323",
   "metadata": {},
   "outputs": [
    {
     "ename": "TypeError",
     "evalue": "can only concatenate str (not \"int\") to str",
     "output_type": "error",
     "traceback": [
      "\u001b[1;31m---------------------------------------------------------------------------\u001b[0m",
      "\u001b[1;31mTypeError\u001b[0m                                 Traceback (most recent call last)",
      "Input \u001b[1;32mIn [30]\u001b[0m, in \u001b[0;36m<cell line: 1>\u001b[1;34m()\u001b[0m\n\u001b[1;32m----> 1\u001b[0m \u001b[43mk\u001b[49m\u001b[38;5;241;43m+\u001b[39;49m\u001b[38;5;241;43m1\u001b[39;49m\n",
      "\u001b[1;31mTypeError\u001b[0m: can only concatenate str (not \"int\") to str"
     ]
    }
   ],
   "source": [
    "k+1"
   ]
  },
  {
   "cell_type": "code",
   "execution_count": 31,
   "id": "3ed9bb0d",
   "metadata": {},
   "outputs": [
    {
     "data": {
      "text/plain": [
       "\"he is uncle's sonhe is uncle's sonhe is uncle's sonhe is uncle's son\""
      ]
     },
     "execution_count": 31,
     "metadata": {},
     "output_type": "execute_result"
    }
   ],
   "source": [
    "k*4"
   ]
  },
  {
   "cell_type": "code",
   "execution_count": 35,
   "id": "7ee046c4",
   "metadata": {},
   "outputs": [
    {
     "data": {
      "text/plain": [
       "\"he is uncle's son  dfljl\""
      ]
     },
     "execution_count": 35,
     "metadata": {},
     "output_type": "execute_result"
    }
   ],
   "source": [
    "k + str(\"  dfljl\")"
   ]
  },
  {
   "cell_type": "code",
   "execution_count": 36,
   "id": "798f3135",
   "metadata": {},
   "outputs": [
    {
     "data": {
      "text/plain": [
       "17"
      ]
     },
     "execution_count": 36,
     "metadata": {},
     "output_type": "execute_result"
    }
   ],
   "source": [
    "len(k)"
   ]
  },
  {
   "cell_type": "code",
   "execution_count": 37,
   "id": "ad54b8eb",
   "metadata": {},
   "outputs": [
    {
     "data": {
      "text/plain": [
       "\"he is uncle's son\""
      ]
     },
     "execution_count": 37,
     "metadata": {},
     "output_type": "execute_result"
    }
   ],
   "source": [
    "k"
   ]
  },
  {
   "cell_type": "code",
   "execution_count": 39,
   "id": "ec144b3a",
   "metadata": {},
   "outputs": [
    {
     "data": {
      "text/plain": [
       "\"He is uncle's son\""
      ]
     },
     "execution_count": 39,
     "metadata": {},
     "output_type": "execute_result"
    }
   ],
   "source": [
    "k.capitalize()"
   ]
  },
  {
   "cell_type": "code",
   "execution_count": 40,
   "id": "6d798a86",
   "metadata": {},
   "outputs": [
    {
     "data": {
      "text/plain": [
       "\"HE IS UNCLE'S SON\""
      ]
     },
     "execution_count": 40,
     "metadata": {},
     "output_type": "execute_result"
    }
   ],
   "source": [
    "k.upper()"
   ]
  },
  {
   "cell_type": "code",
   "execution_count": 41,
   "id": "bed42a7f",
   "metadata": {},
   "outputs": [
    {
     "data": {
      "text/plain": [
       "\"he is uncle's son\""
      ]
     },
     "execution_count": 41,
     "metadata": {},
     "output_type": "execute_result"
    }
   ],
   "source": [
    "k.lower()"
   ]
  },
  {
   "cell_type": "code",
   "execution_count": 43,
   "id": "38de1e27",
   "metadata": {},
   "outputs": [
    {
     "data": {
      "text/plain": [
       "1"
      ]
     },
     "execution_count": 43,
     "metadata": {},
     "output_type": "execute_result"
    }
   ],
   "source": [
    "k.count(\"i\")"
   ]
  },
  {
   "cell_type": "code",
   "execution_count": 44,
   "id": "143a58f0",
   "metadata": {},
   "outputs": [],
   "source": [
    "sw = \"\"\"The Samsung Group[3] (or simply Samsung, stylized as SΛMSUNG) (Korean: 삼성 [samsʌŋ]) is a South Korean multinational manufacturing conglomerate headquartered in Samsung Town, Seoul, South Korea.[1] It comprises numerous affiliated businesses,[1] most of them united under the Samsung brand, and is the largest South Korean chaebol (business conglomerate). As of 2020, Samsung has the eight highest global brand value.[4]\n",
    "\n",
    "Samsung was founded by Lee Byung-chul in 1938 as a trading company. Over the next three decades, the group diversified into areas including food processing, textiles, insurance, securities, and retail. Samsung entered the electronics industry in the late 1960s and the construction and shipbuilding industries in the mid-1970s; these areas would drive its subsequent growth. Following Lee's death in 1987, Samsung was separated into five business groups – Samsung Group, Shinsegae Group, CJ Group and Hansol Group, and Joongang Group.\"\"\""
   ]
  },
  {
   "cell_type": "code",
   "execution_count": 46,
   "id": "e0d01186",
   "metadata": {},
   "outputs": [
    {
     "data": {
      "text/plain": [
       "\"The Samsung Group[3] (or simply Samsung, stylized as SΛMSUNG) (Korean: 삼성 [samsʌŋ]) is a South Korean multinational manufacturing conglomerate headquartered in Samsung Town, Seoul, South Korea.[1] It comprises numerous affiliated businesses,[1] most of them united under the Samsung brand, and is the largest South Korean chaebol (business conglomerate). As of 2020, Samsung has the eight highest global brand value.[4]\\n\\nSamsung was founded by Lee Byung-chul in 1938 as a trading company. Over the next three decades, the group diversified into areas including food processing, textiles, insurance, securities, and retail. Samsung entered the electronics industry in the late 1960s and the construction and shipbuilding industries in the mid-1970s; these areas would drive its subsequent growth. Following Lee's death in 1987, Samsung was separated into five business groups – Samsung Group, Shinsegae Group, CJ Group and Hansol Group, and Joongang Group.\""
      ]
     },
     "execution_count": 46,
     "metadata": {},
     "output_type": "execute_result"
    }
   ],
   "source": [
    "sw"
   ]
  },
  {
   "cell_type": "code",
   "execution_count": 47,
   "id": "90a590ff",
   "metadata": {},
   "outputs": [
    {
     "data": {
      "text/plain": [
       "['he', 'is', \"uncle's\", 'son']"
      ]
     },
     "execution_count": 47,
     "metadata": {},
     "output_type": "execute_result"
    }
   ],
   "source": [
    "k.split(\" \")"
   ]
  },
  {
   "cell_type": "code",
   "execution_count": 48,
   "id": "5855ef81",
   "metadata": {},
   "outputs": [
    {
     "data": {
      "text/plain": [
       "\"The samsung group[3] (or simply samsung, stylized as sλmsung) (korean: 삼성 [samsʌŋ]) is a south korean multinational manufacturing conglomerate headquartered in samsung town, seoul, south korea.[1] it comprises numerous affiliated businesses,[1] most of them united under the samsung brand, and is the largest south korean chaebol (business conglomerate). as of 2020, samsung has the eight highest global brand value.[4]\\n\\nsamsung was founded by lee byung-chul in 1938 as a trading company. over the next three decades, the group diversified into areas including food processing, textiles, insurance, securities, and retail. samsung entered the electronics industry in the late 1960s and the construction and shipbuilding industries in the mid-1970s; these areas would drive its subsequent growth. following lee's death in 1987, samsung was separated into five business groups – samsung group, shinsegae group, cj group and hansol group, and joongang group.\""
      ]
     },
     "execution_count": 48,
     "metadata": {},
     "output_type": "execute_result"
    }
   ],
   "source": [
    "sw.capitalize()"
   ]
  },
  {
   "cell_type": "code",
   "execution_count": 53,
   "id": "59d08b41",
   "metadata": {},
   "outputs": [
    {
     "data": {
      "text/plain": [
       "\"The Samsung Group[3] (or simply Samsung, stylized as SΛMSUNG) (Korean: 삼성 [samsʌŋ]) is a South Korean multinational manufacturing conglomerate headquartered in Samsung Town, Seoul, South Korea.[1] It comprises numerous affiliated businesses,[1] most of them united under the Samsung brand, and is the largest South Korean chaebol (business conglomerate). As of 2020, Samsung has the eight highest global brand value.[4]\\n\\nSamsung was founded by Lee Byung-chul in 1938 as a trading company. Over the next three decades, the group diversified into areas including food processing, textiles, insurance, securities, and retail. Samsung entered the electronics industry in the late 1960s and the construction and shipbuilding industries in the mid-1970s; these areas would drive its subsequent growth. Following Lee's death in 1987, Samsung was separated into five business groups – Samsung Group, Shinsegae Group, CJ Group and Hansol Group, and Joongang Group.\""
      ]
     },
     "execution_count": 53,
     "metadata": {},
     "output_type": "execute_result"
    }
   ],
   "source": [
    "sw"
   ]
  },
  {
   "cell_type": "code",
   "execution_count": 54,
   "id": "4a32c93e",
   "metadata": {},
   "outputs": [
    {
     "data": {
      "text/plain": [
       "9"
      ]
     },
     "execution_count": 54,
     "metadata": {},
     "output_type": "execute_result"
    }
   ],
   "source": [
    "sw.count(\"Samsung\")"
   ]
  },
  {
   "cell_type": "code",
   "execution_count": 55,
   "id": "1922e6e9",
   "metadata": {},
   "outputs": [
    {
     "data": {
      "text/plain": [
       "\"the samsung group[3] (or simply samsung, stylized as sλmsung) (korean: 삼성 [samsʌŋ]) is a south korean multinational manufacturing conglomerate headquartered in samsung town, seoul, south korea.[1] it comprises numerous affiliated businesses,[1] most of them united under the samsung brand, and is the largest south korean chaebol (business conglomerate). as of 2020, samsung has the eight highest global brand value.[4]\\n\\nsamsung was founded by lee byung-chul in 1938 as a trading company. over the next three decades, the group diversified into areas including food processing, textiles, insurance, securities, and retail. samsung entered the electronics industry in the late 1960s and the construction and shipbuilding industries in the mid-1970s; these areas would drive its subsequent growth. following lee's death in 1987, samsung was separated into five business groups – samsung group, shinsegae group, cj group and hansol group, and joongang group.\""
      ]
     },
     "execution_count": 55,
     "metadata": {},
     "output_type": "execute_result"
    }
   ],
   "source": [
    "sw.lower()"
   ]
  },
  {
   "cell_type": "code",
   "execution_count": 56,
   "id": "b1f378d6",
   "metadata": {},
   "outputs": [
    {
     "data": {
      "text/plain": [
       "\"THE SAMSUNG GROUP[3] (OR SIMPLY SAMSUNG, STYLIZED AS SΛMSUNG) (KOREAN: 삼성 [SAMSɅŊ]) IS A SOUTH KOREAN MULTINATIONAL MANUFACTURING CONGLOMERATE HEADQUARTERED IN SAMSUNG TOWN, SEOUL, SOUTH KOREA.[1] IT COMPRISES NUMEROUS AFFILIATED BUSINESSES,[1] MOST OF THEM UNITED UNDER THE SAMSUNG BRAND, AND IS THE LARGEST SOUTH KOREAN CHAEBOL (BUSINESS CONGLOMERATE). AS OF 2020, SAMSUNG HAS THE EIGHT HIGHEST GLOBAL BRAND VALUE.[4]\\n\\nSAMSUNG WAS FOUNDED BY LEE BYUNG-CHUL IN 1938 AS A TRADING COMPANY. OVER THE NEXT THREE DECADES, THE GROUP DIVERSIFIED INTO AREAS INCLUDING FOOD PROCESSING, TEXTILES, INSURANCE, SECURITIES, AND RETAIL. SAMSUNG ENTERED THE ELECTRONICS INDUSTRY IN THE LATE 1960S AND THE CONSTRUCTION AND SHIPBUILDING INDUSTRIES IN THE MID-1970S; THESE AREAS WOULD DRIVE ITS SUBSEQUENT GROWTH. FOLLOWING LEE'S DEATH IN 1987, SAMSUNG WAS SEPARATED INTO FIVE BUSINESS GROUPS – SAMSUNG GROUP, SHINSEGAE GROUP, CJ GROUP AND HANSOL GROUP, AND JOONGANG GROUP.\""
      ]
     },
     "execution_count": 56,
     "metadata": {},
     "output_type": "execute_result"
    }
   ],
   "source": [
    "sw.upper()"
   ]
  },
  {
   "cell_type": "code",
   "execution_count": 57,
   "id": "0cf52695",
   "metadata": {},
   "outputs": [
    {
     "data": {
      "text/plain": [
       "\"The samsung group[3] (or simply samsung, stylized as sλmsung) (korean: 삼성 [samsʌŋ]) is a south korean multinational manufacturing conglomerate headquartered in samsung town, seoul, south korea.[1] it comprises numerous affiliated businesses,[1] most of them united under the samsung brand, and is the largest south korean chaebol (business conglomerate). as of 2020, samsung has the eight highest global brand value.[4]\\n\\nsamsung was founded by lee byung-chul in 1938 as a trading company. over the next three decades, the group diversified into areas including food processing, textiles, insurance, securities, and retail. samsung entered the electronics industry in the late 1960s and the construction and shipbuilding industries in the mid-1970s; these areas would drive its subsequent growth. following lee's death in 1987, samsung was separated into five business groups – samsung group, shinsegae group, cj group and hansol group, and joongang group.\""
      ]
     },
     "execution_count": 57,
     "metadata": {},
     "output_type": "execute_result"
    }
   ],
   "source": [
    "sw.capitalize()"
   ]
  },
  {
   "cell_type": "code",
   "execution_count": 59,
   "id": "bf74103c",
   "metadata": {
    "scrolled": true
   },
   "outputs": [
    {
     "data": {
      "text/plain": [
       "\"The Samsung Group[3] (Or Simply Samsung, Stylized As Sλmsung) (Korean: 삼성 [Samsʌŋ]) Is A South Korean Multinational Manufacturing Conglomerate Headquartered In Samsung Town, Seoul, South Korea.[1] It Comprises Numerous Affiliated Businesses,[1] Most Of Them United Under The Samsung Brand, And Is The Largest South Korean Chaebol (Business Conglomerate). As Of 2020, Samsung Has The Eight Highest Global Brand Value.[4]\\n\\nSamsung Was Founded By Lee Byung-Chul In 1938 As A Trading Company. Over The Next Three Decades, The Group Diversified Into Areas Including Food Processing, Textiles, Insurance, Securities, And Retail. Samsung Entered The Electronics Industry In The Late 1960S And The Construction And Shipbuilding Industries In The Mid-1970S; These Areas Would Drive Its Subsequent Growth. Following Lee'S Death In 1987, Samsung Was Separated Into Five Business Groups – Samsung Group, Shinsegae Group, Cj Group And Hansol Group, And Joongang Group.\""
      ]
     },
     "execution_count": 59,
     "metadata": {},
     "output_type": "execute_result"
    }
   ],
   "source": [
    "sw.title()"
   ]
  },
  {
   "cell_type": "code",
   "execution_count": 61,
   "id": "f23dbf7a",
   "metadata": {},
   "outputs": [],
   "source": [
    "kk = \"   kaushik   \""
   ]
  },
  {
   "cell_type": "code",
   "execution_count": 62,
   "id": "f5180d9c",
   "metadata": {},
   "outputs": [
    {
     "data": {
      "text/plain": [
       "'kaushik'"
      ]
     },
     "execution_count": 62,
     "metadata": {},
     "output_type": "execute_result"
    }
   ],
   "source": [
    "kk.strip()"
   ]
  },
  {
   "cell_type": "code",
   "execution_count": 63,
   "id": "5b8d2a25",
   "metadata": {},
   "outputs": [
    {
     "data": {
      "text/plain": [
       "'kaushik   '"
      ]
     },
     "execution_count": 63,
     "metadata": {},
     "output_type": "execute_result"
    }
   ],
   "source": [
    "kk.lstrip()"
   ]
  },
  {
   "cell_type": "code",
   "execution_count": 64,
   "id": "4cc3f1aa",
   "metadata": {},
   "outputs": [
    {
     "data": {
      "text/plain": [
       "'   kaushik'"
      ]
     },
     "execution_count": 64,
     "metadata": {},
     "output_type": "execute_result"
    }
   ],
   "source": [
    "kk.rstrip()"
   ]
  },
  {
   "cell_type": "code",
   "execution_count": 74,
   "id": "76aa9a7b",
   "metadata": {},
   "outputs": [
    {
     "data": {
      "text/plain": [
       "'k**a**u**s**h**i**k'"
      ]
     },
     "execution_count": 74,
     "metadata": {},
     "output_type": "execute_result"
    }
   ],
   "source": [
    "\"**\".join(kk)"
   ]
  },
  {
   "cell_type": "code",
   "execution_count": 66,
   "id": "b6d56a02",
   "metadata": {},
   "outputs": [
    {
     "data": {
      "text/plain": [
       "'#############   kaushik   ##############'"
      ]
     },
     "execution_count": 66,
     "metadata": {},
     "output_type": "execute_result"
    }
   ],
   "source": [
    "kk.center(40,\"#\")"
   ]
  },
  {
   "cell_type": "code",
   "execution_count": 67,
   "id": "39343711",
   "metadata": {},
   "outputs": [
    {
     "data": {
      "text/plain": [
       "False"
      ]
     },
     "execution_count": 67,
     "metadata": {},
     "output_type": "execute_result"
    }
   ],
   "source": [
    "kk.isalnum()"
   ]
  },
  {
   "cell_type": "code",
   "execution_count": 69,
   "id": "7c100b7c",
   "metadata": {},
   "outputs": [
    {
     "ename": "AttributeError",
     "evalue": "'str' object has no attribute 'alpha'",
     "output_type": "error",
     "traceback": [
      "\u001b[1;31m---------------------------------------------------------------------------\u001b[0m",
      "\u001b[1;31mAttributeError\u001b[0m                            Traceback (most recent call last)",
      "Input \u001b[1;32mIn [69]\u001b[0m, in \u001b[0;36m<cell line: 1>\u001b[1;34m()\u001b[0m\n\u001b[1;32m----> 1\u001b[0m \u001b[43mkk\u001b[49m\u001b[38;5;241;43m.\u001b[39;49m\u001b[43malpha\u001b[49m()\n",
      "\u001b[1;31mAttributeError\u001b[0m: 'str' object has no attribute 'alpha'"
     ]
    }
   ],
   "source": [
    "kk.alpha()"
   ]
  },
  {
   "cell_type": "code",
   "execution_count": 70,
   "id": "4c99228f",
   "metadata": {},
   "outputs": [
    {
     "data": {
      "text/plain": [
       "False"
      ]
     },
     "execution_count": 70,
     "metadata": {},
     "output_type": "execute_result"
    }
   ],
   "source": [
    "kk.isdigit()"
   ]
  },
  {
   "cell_type": "code",
   "execution_count": 71,
   "id": "9b06a916",
   "metadata": {},
   "outputs": [],
   "source": [
    "kk = \"kaushik\""
   ]
  },
  {
   "cell_type": "code",
   "execution_count": 72,
   "id": "3915b021",
   "metadata": {},
   "outputs": [
    {
     "data": {
      "text/plain": [
       "True"
      ]
     },
     "execution_count": 72,
     "metadata": {},
     "output_type": "execute_result"
    }
   ],
   "source": [
    "kk.isalnum()"
   ]
  },
  {
   "cell_type": "code",
   "execution_count": 73,
   "id": "d282481e",
   "metadata": {},
   "outputs": [
    {
     "data": {
      "text/plain": [
       "True"
      ]
     },
     "execution_count": 73,
     "metadata": {},
     "output_type": "execute_result"
    }
   ],
   "source": [
    "kk.isalpha()"
   ]
  },
  {
   "cell_type": "code",
   "execution_count": 79,
   "id": "21e3c57b",
   "metadata": {},
   "outputs": [],
   "source": [
    "a=list(reversed(kk))\n"
   ]
  },
  {
   "cell_type": "code",
   "execution_count": 80,
   "id": "390ce3db",
   "metadata": {},
   "outputs": [
    {
     "data": {
      "text/plain": [
       "['k', 'i', 'h', 's', 'u', 'a', 'k']"
      ]
     },
     "execution_count": 80,
     "metadata": {},
     "output_type": "execute_result"
    }
   ],
   "source": [
    "a"
   ]
  },
  {
   "cell_type": "code",
   "execution_count": 81,
   "id": "656450e2",
   "metadata": {},
   "outputs": [
    {
     "data": {
      "text/plain": [
       "'kihsuak'"
      ]
     },
     "execution_count": 81,
     "metadata": {},
     "output_type": "execute_result"
    }
   ],
   "source": [
    "kk[::-1]"
   ]
  },
  {
   "cell_type": "code",
   "execution_count": null,
   "id": "4fccdc16",
   "metadata": {},
   "outputs": [],
   "source": []
  }
 ],
 "metadata": {
  "kernelspec": {
   "display_name": "Python 3 (ipykernel)",
   "language": "python",
   "name": "python3"
  },
  "language_info": {
   "codemirror_mode": {
    "name": "ipython",
    "version": 3
   },
   "file_extension": ".py",
   "mimetype": "text/x-python",
   "name": "python",
   "nbconvert_exporter": "python",
   "pygments_lexer": "ipython3",
   "version": "3.9.12"
  }
 },
 "nbformat": 4,
 "nbformat_minor": 5
}
